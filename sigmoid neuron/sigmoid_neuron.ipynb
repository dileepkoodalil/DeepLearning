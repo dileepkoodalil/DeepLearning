{
  "nbformat": 4,
  "nbformat_minor": 0,
  "metadata": {
    "colab": {
      "provenance": [],
      "toc_visible": true
    },
    "kernelspec": {
      "name": "python3",
      "display_name": "Python 3"
    },
    "language_info": {
      "name": "python"
    },
    "widgets": {
      "application/vnd.jupyter.widget-state+json": {
        "09d1e8e938474904a159ce82b2047312": {
          "model_module": "@jupyter-widgets/controls",
          "model_name": "VBoxModel",
          "model_module_version": "1.5.0",
          "state": {
            "_dom_classes": [
              "widget-interact"
            ],
            "_model_module": "@jupyter-widgets/controls",
            "_model_module_version": "1.5.0",
            "_model_name": "VBoxModel",
            "_view_count": null,
            "_view_module": "@jupyter-widgets/controls",
            "_view_module_version": "1.5.0",
            "_view_name": "VBoxView",
            "box_style": "",
            "children": [
              "IPY_MODEL_fee4011c41cf4f0c9453c62e5e7bae6a",
              "IPY_MODEL_dc8ca885f57d40a4b54c54a78fb4ee09",
              "IPY_MODEL_fc6d0ece39c446debc368866700b7062"
            ],
            "layout": "IPY_MODEL_f9c64381ac2849fab9c6390b441c172c"
          }
        },
        "fee4011c41cf4f0c9453c62e5e7bae6a": {
          "model_module": "@jupyter-widgets/controls",
          "model_name": "FloatSliderModel",
          "model_module_version": "1.5.0",
          "state": {
            "_dom_classes": [],
            "_model_module": "@jupyter-widgets/controls",
            "_model_module_version": "1.5.0",
            "_model_name": "FloatSliderModel",
            "_view_count": null,
            "_view_module": "@jupyter-widgets/controls",
            "_view_module_version": "1.5.0",
            "_view_name": "FloatSliderView",
            "continuous_update": true,
            "description": "w1",
            "description_tooltip": null,
            "disabled": false,
            "layout": "IPY_MODEL_840130eada744e86b53204517e52a8a2",
            "max": 20,
            "min": -20,
            "orientation": "horizontal",
            "readout": true,
            "readout_format": ".2f",
            "step": 0.1,
            "style": "IPY_MODEL_cdb80ecff77949d587fc5800cb1d495e",
            "value": 0.1
          }
        },
        "dc8ca885f57d40a4b54c54a78fb4ee09": {
          "model_module": "@jupyter-widgets/controls",
          "model_name": "FloatSliderModel",
          "model_module_version": "1.5.0",
          "state": {
            "_dom_classes": [],
            "_model_module": "@jupyter-widgets/controls",
            "_model_module_version": "1.5.0",
            "_model_name": "FloatSliderModel",
            "_view_count": null,
            "_view_module": "@jupyter-widgets/controls",
            "_view_module_version": "1.5.0",
            "_view_name": "FloatSliderView",
            "continuous_update": true,
            "description": "b1",
            "description_tooltip": null,
            "disabled": false,
            "layout": "IPY_MODEL_6821b4ee2916448e8f93afc2f536707b",
            "max": 2,
            "min": -2,
            "orientation": "horizontal",
            "readout": true,
            "readout_format": ".2f",
            "step": 0.1,
            "style": "IPY_MODEL_ba2792685a9048d1a5e8cbd7295095f5",
            "value": 0.3
          }
        },
        "fc6d0ece39c446debc368866700b7062": {
          "model_module": "@jupyter-widgets/output",
          "model_name": "OutputModel",
          "model_module_version": "1.0.0",
          "state": {
            "_dom_classes": [],
            "_model_module": "@jupyter-widgets/output",
            "_model_module_version": "1.0.0",
            "_model_name": "OutputModel",
            "_view_count": null,
            "_view_module": "@jupyter-widgets/output",
            "_view_module_version": "1.0.0",
            "_view_name": "OutputView",
            "layout": "IPY_MODEL_ef721745b3b74f9e97dec32f08848d8f",
            "msg_id": "",
            "outputs": [
              {
                "output_type": "display_data",
                "data": {
                  "text/plain": "<Figure size 640x480 with 1 Axes>",
                  "image/png": "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\n"
                },
                "metadata": {}
              }
            ]
          }
        },
        "f9c64381ac2849fab9c6390b441c172c": {
          "model_module": "@jupyter-widgets/base",
          "model_name": "LayoutModel",
          "model_module_version": "1.2.0",
          "state": {
            "_model_module": "@jupyter-widgets/base",
            "_model_module_version": "1.2.0",
            "_model_name": "LayoutModel",
            "_view_count": null,
            "_view_module": "@jupyter-widgets/base",
            "_view_module_version": "1.2.0",
            "_view_name": "LayoutView",
            "align_content": null,
            "align_items": null,
            "align_self": null,
            "border": null,
            "bottom": null,
            "display": null,
            "flex": null,
            "flex_flow": null,
            "grid_area": null,
            "grid_auto_columns": null,
            "grid_auto_flow": null,
            "grid_auto_rows": null,
            "grid_column": null,
            "grid_gap": null,
            "grid_row": null,
            "grid_template_areas": null,
            "grid_template_columns": null,
            "grid_template_rows": null,
            "height": null,
            "justify_content": null,
            "justify_items": null,
            "left": null,
            "margin": null,
            "max_height": null,
            "max_width": null,
            "min_height": null,
            "min_width": null,
            "object_fit": null,
            "object_position": null,
            "order": null,
            "overflow": null,
            "overflow_x": null,
            "overflow_y": null,
            "padding": null,
            "right": null,
            "top": null,
            "visibility": null,
            "width": null
          }
        },
        "840130eada744e86b53204517e52a8a2": {
          "model_module": "@jupyter-widgets/base",
          "model_name": "LayoutModel",
          "model_module_version": "1.2.0",
          "state": {
            "_model_module": "@jupyter-widgets/base",
            "_model_module_version": "1.2.0",
            "_model_name": "LayoutModel",
            "_view_count": null,
            "_view_module": "@jupyter-widgets/base",
            "_view_module_version": "1.2.0",
            "_view_name": "LayoutView",
            "align_content": null,
            "align_items": null,
            "align_self": null,
            "border": null,
            "bottom": null,
            "display": null,
            "flex": null,
            "flex_flow": null,
            "grid_area": null,
            "grid_auto_columns": null,
            "grid_auto_flow": null,
            "grid_auto_rows": null,
            "grid_column": null,
            "grid_gap": null,
            "grid_row": null,
            "grid_template_areas": null,
            "grid_template_columns": null,
            "grid_template_rows": null,
            "height": null,
            "justify_content": null,
            "justify_items": null,
            "left": null,
            "margin": null,
            "max_height": null,
            "max_width": null,
            "min_height": null,
            "min_width": null,
            "object_fit": null,
            "object_position": null,
            "order": null,
            "overflow": null,
            "overflow_x": null,
            "overflow_y": null,
            "padding": null,
            "right": null,
            "top": null,
            "visibility": null,
            "width": null
          }
        },
        "cdb80ecff77949d587fc5800cb1d495e": {
          "model_module": "@jupyter-widgets/controls",
          "model_name": "SliderStyleModel",
          "model_module_version": "1.5.0",
          "state": {
            "_model_module": "@jupyter-widgets/controls",
            "_model_module_version": "1.5.0",
            "_model_name": "SliderStyleModel",
            "_view_count": null,
            "_view_module": "@jupyter-widgets/base",
            "_view_module_version": "1.2.0",
            "_view_name": "StyleView",
            "description_width": "",
            "handle_color": null
          }
        },
        "6821b4ee2916448e8f93afc2f536707b": {
          "model_module": "@jupyter-widgets/base",
          "model_name": "LayoutModel",
          "model_module_version": "1.2.0",
          "state": {
            "_model_module": "@jupyter-widgets/base",
            "_model_module_version": "1.2.0",
            "_model_name": "LayoutModel",
            "_view_count": null,
            "_view_module": "@jupyter-widgets/base",
            "_view_module_version": "1.2.0",
            "_view_name": "LayoutView",
            "align_content": null,
            "align_items": null,
            "align_self": null,
            "border": null,
            "bottom": null,
            "display": null,
            "flex": null,
            "flex_flow": null,
            "grid_area": null,
            "grid_auto_columns": null,
            "grid_auto_flow": null,
            "grid_auto_rows": null,
            "grid_column": null,
            "grid_gap": null,
            "grid_row": null,
            "grid_template_areas": null,
            "grid_template_columns": null,
            "grid_template_rows": null,
            "height": null,
            "justify_content": null,
            "justify_items": null,
            "left": null,
            "margin": null,
            "max_height": null,
            "max_width": null,
            "min_height": null,
            "min_width": null,
            "object_fit": null,
            "object_position": null,
            "order": null,
            "overflow": null,
            "overflow_x": null,
            "overflow_y": null,
            "padding": null,
            "right": null,
            "top": null,
            "visibility": null,
            "width": null
          }
        },
        "ba2792685a9048d1a5e8cbd7295095f5": {
          "model_module": "@jupyter-widgets/controls",
          "model_name": "SliderStyleModel",
          "model_module_version": "1.5.0",
          "state": {
            "_model_module": "@jupyter-widgets/controls",
            "_model_module_version": "1.5.0",
            "_model_name": "SliderStyleModel",
            "_view_count": null,
            "_view_module": "@jupyter-widgets/base",
            "_view_module_version": "1.2.0",
            "_view_name": "StyleView",
            "description_width": "",
            "handle_color": null
          }
        },
        "ef721745b3b74f9e97dec32f08848d8f": {
          "model_module": "@jupyter-widgets/base",
          "model_name": "LayoutModel",
          "model_module_version": "1.2.0",
          "state": {
            "_model_module": "@jupyter-widgets/base",
            "_model_module_version": "1.2.0",
            "_model_name": "LayoutModel",
            "_view_count": null,
            "_view_module": "@jupyter-widgets/base",
            "_view_module_version": "1.2.0",
            "_view_name": "LayoutView",
            "align_content": null,
            "align_items": null,
            "align_self": null,
            "border": null,
            "bottom": null,
            "display": null,
            "flex": null,
            "flex_flow": null,
            "grid_area": null,
            "grid_auto_columns": null,
            "grid_auto_flow": null,
            "grid_auto_rows": null,
            "grid_column": null,
            "grid_gap": null,
            "grid_row": null,
            "grid_template_areas": null,
            "grid_template_columns": null,
            "grid_template_rows": null,
            "height": null,
            "justify_content": null,
            "justify_items": null,
            "left": null,
            "margin": null,
            "max_height": null,
            "max_width": null,
            "min_height": null,
            "min_width": null,
            "object_fit": null,
            "object_position": null,
            "order": null,
            "overflow": null,
            "overflow_x": null,
            "overflow_y": null,
            "padding": null,
            "right": null,
            "top": null,
            "visibility": null,
            "width": null
          }
        },
        "bafd98d946bd46bb95e488562b794b51": {
          "model_module": "@jupyter-widgets/controls",
          "model_name": "VBoxModel",
          "model_module_version": "1.5.0",
          "state": {
            "_dom_classes": [
              "widget-interact"
            ],
            "_model_module": "@jupyter-widgets/controls",
            "_model_module_version": "1.5.0",
            "_model_name": "VBoxModel",
            "_view_count": null,
            "_view_module": "@jupyter-widgets/controls",
            "_view_module_version": "1.5.0",
            "_view_name": "VBoxView",
            "box_style": "",
            "children": [
              "IPY_MODEL_6293e6094c3f40baae9f8b59ba13745f",
              "IPY_MODEL_c9715b97772f43c687836e0a72995cc9",
              "IPY_MODEL_08b90f3436864bc593ee967a9d423bb0",
              "IPY_MODEL_9f11bf61a7bc4092ac0fcb0a2ed54e12"
            ],
            "layout": "IPY_MODEL_9929b56af883406aab7f6fb2354bd719"
          }
        },
        "6293e6094c3f40baae9f8b59ba13745f": {
          "model_module": "@jupyter-widgets/controls",
          "model_name": "FloatSliderModel",
          "model_module_version": "1.5.0",
          "state": {
            "_dom_classes": [],
            "_model_module": "@jupyter-widgets/controls",
            "_model_module_version": "1.5.0",
            "_model_name": "FloatSliderModel",
            "_view_count": null,
            "_view_module": "@jupyter-widgets/controls",
            "_view_module_version": "1.5.0",
            "_view_name": "FloatSliderView",
            "continuous_update": true,
            "description": "w1",
            "description_tooltip": null,
            "disabled": false,
            "layout": "IPY_MODEL_bcd1a2b866764cb68263f9ea93172ebb",
            "max": 10,
            "min": -10,
            "orientation": "horizontal",
            "readout": true,
            "readout_format": ".2f",
            "step": 0.1,
            "style": "IPY_MODEL_75b0e172421b4d629c8813d11b72ad38",
            "value": 3.1
          }
        },
        "c9715b97772f43c687836e0a72995cc9": {
          "model_module": "@jupyter-widgets/controls",
          "model_name": "FloatSliderModel",
          "model_module_version": "1.5.0",
          "state": {
            "_dom_classes": [],
            "_model_module": "@jupyter-widgets/controls",
            "_model_module_version": "1.5.0",
            "_model_name": "FloatSliderModel",
            "_view_count": null,
            "_view_module": "@jupyter-widgets/controls",
            "_view_module_version": "1.5.0",
            "_view_name": "FloatSliderView",
            "continuous_update": true,
            "description": "w2",
            "description_tooltip": null,
            "disabled": false,
            "layout": "IPY_MODEL_b9db9825907048ce938e49480abc65ac",
            "max": 10,
            "min": -10,
            "orientation": "horizontal",
            "readout": true,
            "readout_format": ".2f",
            "step": 0.1,
            "style": "IPY_MODEL_0cbcdc34deeb46a5838cf74994503c26",
            "value": 5
          }
        },
        "08b90f3436864bc593ee967a9d423bb0": {
          "model_module": "@jupyter-widgets/controls",
          "model_name": "FloatSliderModel",
          "model_module_version": "1.5.0",
          "state": {
            "_dom_classes": [],
            "_model_module": "@jupyter-widgets/controls",
            "_model_module_version": "1.5.0",
            "_model_name": "FloatSliderModel",
            "_view_count": null,
            "_view_module": "@jupyter-widgets/controls",
            "_view_module_version": "1.5.0",
            "_view_name": "FloatSliderView",
            "continuous_update": true,
            "description": "b",
            "description_tooltip": null,
            "disabled": false,
            "layout": "IPY_MODEL_758bc706cd354a73b57c7b9ce4b14b66",
            "max": 2,
            "min": -2,
            "orientation": "horizontal",
            "readout": true,
            "readout_format": ".2f",
            "step": 0.1,
            "style": "IPY_MODEL_04bdf0e6e6214500bfaaa553d7360cd7",
            "value": 0.8
          }
        },
        "9f11bf61a7bc4092ac0fcb0a2ed54e12": {
          "model_module": "@jupyter-widgets/output",
          "model_name": "OutputModel",
          "model_module_version": "1.0.0",
          "state": {
            "_dom_classes": [],
            "_model_module": "@jupyter-widgets/output",
            "_model_module_version": "1.0.0",
            "_model_name": "OutputModel",
            "_view_count": null,
            "_view_module": "@jupyter-widgets/output",
            "_view_module_version": "1.0.0",
            "_view_name": "OutputView",
            "layout": "IPY_MODEL_b2868eb01ca84106bfcf7932c3b2336e",
            "msg_id": "",
            "outputs": [
              {
                "output_type": "display_data",
                "data": {
                  "text/plain": "<Figure size 640x480 with 1 Axes>",
                  "image/png": "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\n"
                },
                "metadata": {}
              }
            ]
          }
        },
        "9929b56af883406aab7f6fb2354bd719": {
          "model_module": "@jupyter-widgets/base",
          "model_name": "LayoutModel",
          "model_module_version": "1.2.0",
          "state": {
            "_model_module": "@jupyter-widgets/base",
            "_model_module_version": "1.2.0",
            "_model_name": "LayoutModel",
            "_view_count": null,
            "_view_module": "@jupyter-widgets/base",
            "_view_module_version": "1.2.0",
            "_view_name": "LayoutView",
            "align_content": null,
            "align_items": null,
            "align_self": null,
            "border": null,
            "bottom": null,
            "display": null,
            "flex": null,
            "flex_flow": null,
            "grid_area": null,
            "grid_auto_columns": null,
            "grid_auto_flow": null,
            "grid_auto_rows": null,
            "grid_column": null,
            "grid_gap": null,
            "grid_row": null,
            "grid_template_areas": null,
            "grid_template_columns": null,
            "grid_template_rows": null,
            "height": null,
            "justify_content": null,
            "justify_items": null,
            "left": null,
            "margin": null,
            "max_height": null,
            "max_width": null,
            "min_height": null,
            "min_width": null,
            "object_fit": null,
            "object_position": null,
            "order": null,
            "overflow": null,
            "overflow_x": null,
            "overflow_y": null,
            "padding": null,
            "right": null,
            "top": null,
            "visibility": null,
            "width": null
          }
        },
        "bcd1a2b866764cb68263f9ea93172ebb": {
          "model_module": "@jupyter-widgets/base",
          "model_name": "LayoutModel",
          "model_module_version": "1.2.0",
          "state": {
            "_model_module": "@jupyter-widgets/base",
            "_model_module_version": "1.2.0",
            "_model_name": "LayoutModel",
            "_view_count": null,
            "_view_module": "@jupyter-widgets/base",
            "_view_module_version": "1.2.0",
            "_view_name": "LayoutView",
            "align_content": null,
            "align_items": null,
            "align_self": null,
            "border": null,
            "bottom": null,
            "display": null,
            "flex": null,
            "flex_flow": null,
            "grid_area": null,
            "grid_auto_columns": null,
            "grid_auto_flow": null,
            "grid_auto_rows": null,
            "grid_column": null,
            "grid_gap": null,
            "grid_row": null,
            "grid_template_areas": null,
            "grid_template_columns": null,
            "grid_template_rows": null,
            "height": null,
            "justify_content": null,
            "justify_items": null,
            "left": null,
            "margin": null,
            "max_height": null,
            "max_width": null,
            "min_height": null,
            "min_width": null,
            "object_fit": null,
            "object_position": null,
            "order": null,
            "overflow": null,
            "overflow_x": null,
            "overflow_y": null,
            "padding": null,
            "right": null,
            "top": null,
            "visibility": null,
            "width": null
          }
        },
        "75b0e172421b4d629c8813d11b72ad38": {
          "model_module": "@jupyter-widgets/controls",
          "model_name": "SliderStyleModel",
          "model_module_version": "1.5.0",
          "state": {
            "_model_module": "@jupyter-widgets/controls",
            "_model_module_version": "1.5.0",
            "_model_name": "SliderStyleModel",
            "_view_count": null,
            "_view_module": "@jupyter-widgets/base",
            "_view_module_version": "1.2.0",
            "_view_name": "StyleView",
            "description_width": "",
            "handle_color": null
          }
        },
        "b9db9825907048ce938e49480abc65ac": {
          "model_module": "@jupyter-widgets/base",
          "model_name": "LayoutModel",
          "model_module_version": "1.2.0",
          "state": {
            "_model_module": "@jupyter-widgets/base",
            "_model_module_version": "1.2.0",
            "_model_name": "LayoutModel",
            "_view_count": null,
            "_view_module": "@jupyter-widgets/base",
            "_view_module_version": "1.2.0",
            "_view_name": "LayoutView",
            "align_content": null,
            "align_items": null,
            "align_self": null,
            "border": null,
            "bottom": null,
            "display": null,
            "flex": null,
            "flex_flow": null,
            "grid_area": null,
            "grid_auto_columns": null,
            "grid_auto_flow": null,
            "grid_auto_rows": null,
            "grid_column": null,
            "grid_gap": null,
            "grid_row": null,
            "grid_template_areas": null,
            "grid_template_columns": null,
            "grid_template_rows": null,
            "height": null,
            "justify_content": null,
            "justify_items": null,
            "left": null,
            "margin": null,
            "max_height": null,
            "max_width": null,
            "min_height": null,
            "min_width": null,
            "object_fit": null,
            "object_position": null,
            "order": null,
            "overflow": null,
            "overflow_x": null,
            "overflow_y": null,
            "padding": null,
            "right": null,
            "top": null,
            "visibility": null,
            "width": null
          }
        },
        "0cbcdc34deeb46a5838cf74994503c26": {
          "model_module": "@jupyter-widgets/controls",
          "model_name": "SliderStyleModel",
          "model_module_version": "1.5.0",
          "state": {
            "_model_module": "@jupyter-widgets/controls",
            "_model_module_version": "1.5.0",
            "_model_name": "SliderStyleModel",
            "_view_count": null,
            "_view_module": "@jupyter-widgets/base",
            "_view_module_version": "1.2.0",
            "_view_name": "StyleView",
            "description_width": "",
            "handle_color": null
          }
        },
        "758bc706cd354a73b57c7b9ce4b14b66": {
          "model_module": "@jupyter-widgets/base",
          "model_name": "LayoutModel",
          "model_module_version": "1.2.0",
          "state": {
            "_model_module": "@jupyter-widgets/base",
            "_model_module_version": "1.2.0",
            "_model_name": "LayoutModel",
            "_view_count": null,
            "_view_module": "@jupyter-widgets/base",
            "_view_module_version": "1.2.0",
            "_view_name": "LayoutView",
            "align_content": null,
            "align_items": null,
            "align_self": null,
            "border": null,
            "bottom": null,
            "display": null,
            "flex": null,
            "flex_flow": null,
            "grid_area": null,
            "grid_auto_columns": null,
            "grid_auto_flow": null,
            "grid_auto_rows": null,
            "grid_column": null,
            "grid_gap": null,
            "grid_row": null,
            "grid_template_areas": null,
            "grid_template_columns": null,
            "grid_template_rows": null,
            "height": null,
            "justify_content": null,
            "justify_items": null,
            "left": null,
            "margin": null,
            "max_height": null,
            "max_width": null,
            "min_height": null,
            "min_width": null,
            "object_fit": null,
            "object_position": null,
            "order": null,
            "overflow": null,
            "overflow_x": null,
            "overflow_y": null,
            "padding": null,
            "right": null,
            "top": null,
            "visibility": null,
            "width": null
          }
        },
        "04bdf0e6e6214500bfaaa553d7360cd7": {
          "model_module": "@jupyter-widgets/controls",
          "model_name": "SliderStyleModel",
          "model_module_version": "1.5.0",
          "state": {
            "_model_module": "@jupyter-widgets/controls",
            "_model_module_version": "1.5.0",
            "_model_name": "SliderStyleModel",
            "_view_count": null,
            "_view_module": "@jupyter-widgets/base",
            "_view_module_version": "1.2.0",
            "_view_name": "StyleView",
            "description_width": "",
            "handle_color": null
          }
        },
        "b2868eb01ca84106bfcf7932c3b2336e": {
          "model_module": "@jupyter-widgets/base",
          "model_name": "LayoutModel",
          "model_module_version": "1.2.0",
          "state": {
            "_model_module": "@jupyter-widgets/base",
            "_model_module_version": "1.2.0",
            "_model_name": "LayoutModel",
            "_view_count": null,
            "_view_module": "@jupyter-widgets/base",
            "_view_module_version": "1.2.0",
            "_view_name": "LayoutView",
            "align_content": null,
            "align_items": null,
            "align_self": null,
            "border": null,
            "bottom": null,
            "display": null,
            "flex": null,
            "flex_flow": null,
            "grid_area": null,
            "grid_auto_columns": null,
            "grid_auto_flow": null,
            "grid_auto_rows": null,
            "grid_column": null,
            "grid_gap": null,
            "grid_row": null,
            "grid_template_areas": null,
            "grid_template_columns": null,
            "grid_template_rows": null,
            "height": null,
            "justify_content": null,
            "justify_items": null,
            "left": null,
            "margin": null,
            "max_height": null,
            "max_width": null,
            "min_height": null,
            "min_width": null,
            "object_fit": null,
            "object_position": null,
            "order": null,
            "overflow": null,
            "overflow_x": null,
            "overflow_y": null,
            "padding": null,
            "right": null,
            "top": null,
            "visibility": null,
            "width": null
          }
        }
      }
    }
  },
  "cells": [
    {
      "cell_type": "markdown",
      "source": [
        "# Exploring and understanding sigmoid neuron function"
      ],
      "metadata": {
        "id": "ogZrlabFG7hm"
      }
    },
    {
      "cell_type": "markdown",
      "source": [
        "## Sigmoid function\n",
        "\n",
        "$ f(x)=1$ /$ 1$ +$ e^-(wx+b)$\n"
      ],
      "metadata": {
        "id": "E45AlwvBLllJ"
      }
    },
    {
      "cell_type": "code",
      "source": [
        "def sigmoid(x):\n",
        "  y= 1/(1+math.exp(-x))\n",
        "  return y"
      ],
      "metadata": {
        "id": "FghLvHVUSvWj"
      },
      "execution_count": null,
      "outputs": []
    },
    {
      "cell_type": "code",
      "source": [
        "x=np.random.random(10)\n",
        "print*"
      ],
      "metadata": {
        "id": "Z8DlF-0rS0Fw"
      },
      "execution_count": null,
      "outputs": []
    },
    {
      "cell_type": "markdown",
      "source": [
        "# Plotting one-dimensional Sigmoid function"
      ],
      "metadata": {
        "id": "lymzBBswPBEV"
      }
    },
    {
      "cell_type": "code",
      "source": [
        "import numpy as np\n",
        "import matplotlib.pyplot as plt\n",
        "import math\n",
        "from ipywidgets import interact\n",
        "\n",
        "\n",
        "def plot_sigmoid1d(w1=10,b1=2):\n",
        "\n",
        "\n",
        "  y_1dsig=[]\n",
        "  x=np.arange(-10,10,0.1)\n",
        "  for i in range(len(x)):\n",
        "    y_1dsig.append(sigmoid(w1*x[i]+b1))\n",
        "\n",
        "  y_1dsig=np.array(y_1dsig)\n",
        "  ## plotting\n",
        "  plt.figure()\n",
        "  plt.plot(x,y_1dsig,'r',label='w='+str(w1)+',b='+str(b1))\n",
        "\n",
        "  plt.legend()\n",
        "  plt.grid(True)\n",
        "  plt.xlabel('x')\n",
        "  plt.ylabel('y')\n",
        "  plt.title('Sigmoid Function-1D')\n",
        "  plt.show()\n",
        "\n",
        "def plotsigmoid():\n",
        "  interact(plot_sigmoid1d,w1=(-20,20,0.1),b1=(-2,2,0.1))"
      ],
      "metadata": {
        "id": "z25Z9zSsNCKR"
      },
      "execution_count": 16,
      "outputs": []
    },
    {
      "cell_type": "code",
      "source": [
        "plotsigmoid()"
      ],
      "metadata": {
        "colab": {
          "base_uri": "https://localhost:8080/",
          "height": 536,
          "referenced_widgets": [
            "09d1e8e938474904a159ce82b2047312",
            "fee4011c41cf4f0c9453c62e5e7bae6a",
            "dc8ca885f57d40a4b54c54a78fb4ee09",
            "fc6d0ece39c446debc368866700b7062",
            "f9c64381ac2849fab9c6390b441c172c",
            "840130eada744e86b53204517e52a8a2",
            "cdb80ecff77949d587fc5800cb1d495e",
            "6821b4ee2916448e8f93afc2f536707b",
            "ba2792685a9048d1a5e8cbd7295095f5",
            "ef721745b3b74f9e97dec32f08848d8f"
          ]
        },
        "id": "w58xxlbBGdLv",
        "outputId": "bb41ca0b-a401-4165-e865-817da3aa04ff"
      },
      "execution_count": 17,
      "outputs": [
        {
          "output_type": "display_data",
          "data": {
            "text/plain": [
              "interactive(children=(FloatSlider(value=10.0, description='w1', max=20.0, min=-20.0), FloatSlider(value=2.0, d…"
            ],
            "application/vnd.jupyter.widget-view+json": {
              "version_major": 2,
              "version_minor": 0,
              "model_id": "09d1e8e938474904a159ce82b2047312"
            }
          },
          "metadata": {}
        }
      ]
    },
    {
      "cell_type": "markdown",
      "source": [
        "# Plotting 2D Sigmoid function"
      ],
      "metadata": {
        "id": "zLha4-jDRtMy"
      }
    },
    {
      "cell_type": "code",
      "source": [
        "def sigmoid_2d(x1,x2,w1,w2,b):\n",
        "    return 1/(1+np.exp(-(w1*x1+w2*x2+b)))"
      ],
      "metadata": {
        "id": "u6TVN4-3R1Pv"
      },
      "execution_count": 18,
      "outputs": []
    },
    {
      "cell_type": "code",
      "source": [
        "from ipywidgets import interact\n",
        "import numpy as np\n",
        "import matplotlib.pyplot as plt\n",
        "from mpl_toolkits.mplot3d import Axes3D\n",
        "\n",
        "# Define the sigmoid function\n",
        "def sigmoid_2d(x1, x2, w1, w2, b):\n",
        "    return 1 / (1 + np.exp(-(w1 * x1 + w2 * x2 + b)))\n",
        "\n",
        "# Define the plotting function\n",
        "def plot_sigmoid(w1, w2, b):\n",
        "    x1 = np.arange(-10, 10, 0.1)\n",
        "    x2 = np.arange(-20, 20, 0.1)\n",
        "    X1, X2 = np.meshgrid(x1, x2)\n",
        "    y = sigmoid_2d(X1, X2, w1, w2, b)\n",
        "\n",
        "    fig = plt.figure()\n",
        "    ax = fig.add_subplot(111, projection='3d')\n",
        "    ax.plot_wireframe(X1, X2, y)\n",
        "\n",
        "    plt.grid(True)\n",
        "     # Labels\n",
        "    ax.set_xlabel('x1')\n",
        "    ax.set_ylabel('x2')\n",
        "    ax.set_zlabel('y')\n",
        "    plt.title('Sigmoid Function-2D')\n",
        "    ax.view_init(elev=30, azim =180)\n",
        "    plt.show()\n",
        "\n",
        "# Use interact to create sliders and link them to the plotting function\n",
        "def plot2dsigmoid():\n",
        "  interact(plot_sigmoid, w1= (-10, 10, 0.1), w2=(-10, 10, 0.1), b=(-2, 2, 0.1))"
      ],
      "metadata": {
        "id": "T9-PAAzyWxCF"
      },
      "execution_count": 29,
      "outputs": []
    },
    {
      "cell_type": "code",
      "source": [
        "plot2dsigmoid()"
      ],
      "metadata": {
        "colab": {
          "base_uri": "https://localhost:8080/",
          "height": 524,
          "referenced_widgets": [
            "bafd98d946bd46bb95e488562b794b51",
            "6293e6094c3f40baae9f8b59ba13745f",
            "c9715b97772f43c687836e0a72995cc9",
            "08b90f3436864bc593ee967a9d423bb0",
            "9f11bf61a7bc4092ac0fcb0a2ed54e12",
            "9929b56af883406aab7f6fb2354bd719",
            "bcd1a2b866764cb68263f9ea93172ebb",
            "75b0e172421b4d629c8813d11b72ad38",
            "b9db9825907048ce938e49480abc65ac",
            "0cbcdc34deeb46a5838cf74994503c26",
            "758bc706cd354a73b57c7b9ce4b14b66",
            "04bdf0e6e6214500bfaaa553d7360cd7",
            "b2868eb01ca84106bfcf7932c3b2336e"
          ]
        },
        "id": "e1-pwEOJGqKi",
        "outputId": "9129e25d-0519-4217-ebdf-d7834729918f"
      },
      "execution_count": 30,
      "outputs": [
        {
          "output_type": "display_data",
          "data": {
            "text/plain": [
              "interactive(children=(FloatSlider(value=0.0, description='w1', max=10.0, min=-10.0), FloatSlider(value=0.0, de…"
            ],
            "application/vnd.jupyter.widget-view+json": {
              "version_major": 2,
              "version_minor": 0,
              "model_id": "bafd98d946bd46bb95e488562b794b51"
            }
          },
          "metadata": {}
        }
      ]
    }
  ]
}