{
  "nbformat": 4,
  "nbformat_minor": 0,
  "metadata": {
    "colab": {
      "provenance": []
    },
    "kernelspec": {
      "name": "python3",
      "display_name": "Python 3"
    },
    "language_info": {
      "name": "python"
    },
    "widgets": {
      "application/vnd.jupyter.widget-state+json": {
        "515096a76058492ba3c3879c1b41bc6b": {
          "model_module": "@jupyter-widgets/controls",
          "model_name": "VBoxModel",
          "model_module_version": "1.5.0",
          "state": {
            "_dom_classes": [
              "widget-interact"
            ],
            "_model_module": "@jupyter-widgets/controls",
            "_model_module_version": "1.5.0",
            "_model_name": "VBoxModel",
            "_view_count": null,
            "_view_module": "@jupyter-widgets/controls",
            "_view_module_version": "1.5.0",
            "_view_name": "VBoxView",
            "box_style": "",
            "children": [
              "IPY_MODEL_4995ff22d2dc4c12a5850a3230a4cb9c",
              "IPY_MODEL_c395c51a9a5b4c1d9c0e8eadee22a6ce"
            ],
            "layout": "IPY_MODEL_3b5521b1173f432ab442f8cc767db9bb"
          }
        },
        "4995ff22d2dc4c12a5850a3230a4cb9c": {
          "model_module": "@jupyter-widgets/controls",
          "model_name": "FloatSliderModel",
          "model_module_version": "1.5.0",
          "state": {
            "_dom_classes": [],
            "_model_module": "@jupyter-widgets/controls",
            "_model_module_version": "1.5.0",
            "_model_name": "FloatSliderModel",
            "_view_count": null,
            "_view_module": "@jupyter-widgets/controls",
            "_view_module_version": "1.5.0",
            "_view_name": "FloatSliderView",
            "continuous_update": true,
            "description": "b",
            "description_tooltip": null,
            "disabled": false,
            "layout": "IPY_MODEL_d88efaeb764a4c65882084d9284e8456",
            "max": 20,
            "min": -20,
            "orientation": "horizontal",
            "readout": true,
            "readout_format": ".2f",
            "step": 0.1,
            "style": "IPY_MODEL_df7fae3c0caf42b5b663fb1d5dec569c",
            "value": -4.7
          }
        },
        "c395c51a9a5b4c1d9c0e8eadee22a6ce": {
          "model_module": "@jupyter-widgets/output",
          "model_name": "OutputModel",
          "model_module_version": "1.0.0",
          "state": {
            "_dom_classes": [],
            "_model_module": "@jupyter-widgets/output",
            "_model_module_version": "1.0.0",
            "_model_name": "OutputModel",
            "_view_count": null,
            "_view_module": "@jupyter-widgets/output",
            "_view_module_version": "1.0.0",
            "_view_name": "OutputView",
            "layout": "IPY_MODEL_5b9ee89be40c4e52adeb3f1d8869cd7e",
            "msg_id": "",
            "outputs": [
              {
                "output_type": "display_data",
                "data": {
                  "text/plain": "<Figure size 640x480 with 1 Axes>",
                  "image/png": "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\n"
                },
                "metadata": {}
              }
            ]
          }
        },
        "3b5521b1173f432ab442f8cc767db9bb": {
          "model_module": "@jupyter-widgets/base",
          "model_name": "LayoutModel",
          "model_module_version": "1.2.0",
          "state": {
            "_model_module": "@jupyter-widgets/base",
            "_model_module_version": "1.2.0",
            "_model_name": "LayoutModel",
            "_view_count": null,
            "_view_module": "@jupyter-widgets/base",
            "_view_module_version": "1.2.0",
            "_view_name": "LayoutView",
            "align_content": null,
            "align_items": null,
            "align_self": null,
            "border": null,
            "bottom": null,
            "display": null,
            "flex": null,
            "flex_flow": null,
            "grid_area": null,
            "grid_auto_columns": null,
            "grid_auto_flow": null,
            "grid_auto_rows": null,
            "grid_column": null,
            "grid_gap": null,
            "grid_row": null,
            "grid_template_areas": null,
            "grid_template_columns": null,
            "grid_template_rows": null,
            "height": null,
            "justify_content": null,
            "justify_items": null,
            "left": null,
            "margin": null,
            "max_height": null,
            "max_width": null,
            "min_height": null,
            "min_width": null,
            "object_fit": null,
            "object_position": null,
            "order": null,
            "overflow": null,
            "overflow_x": null,
            "overflow_y": null,
            "padding": null,
            "right": null,
            "top": null,
            "visibility": null,
            "width": null
          }
        },
        "d88efaeb764a4c65882084d9284e8456": {
          "model_module": "@jupyter-widgets/base",
          "model_name": "LayoutModel",
          "model_module_version": "1.2.0",
          "state": {
            "_model_module": "@jupyter-widgets/base",
            "_model_module_version": "1.2.0",
            "_model_name": "LayoutModel",
            "_view_count": null,
            "_view_module": "@jupyter-widgets/base",
            "_view_module_version": "1.2.0",
            "_view_name": "LayoutView",
            "align_content": null,
            "align_items": null,
            "align_self": null,
            "border": null,
            "bottom": null,
            "display": null,
            "flex": null,
            "flex_flow": null,
            "grid_area": null,
            "grid_auto_columns": null,
            "grid_auto_flow": null,
            "grid_auto_rows": null,
            "grid_column": null,
            "grid_gap": null,
            "grid_row": null,
            "grid_template_areas": null,
            "grid_template_columns": null,
            "grid_template_rows": null,
            "height": null,
            "justify_content": null,
            "justify_items": null,
            "left": null,
            "margin": null,
            "max_height": null,
            "max_width": null,
            "min_height": null,
            "min_width": null,
            "object_fit": null,
            "object_position": null,
            "order": null,
            "overflow": null,
            "overflow_x": null,
            "overflow_y": null,
            "padding": null,
            "right": null,
            "top": null,
            "visibility": null,
            "width": null
          }
        },
        "df7fae3c0caf42b5b663fb1d5dec569c": {
          "model_module": "@jupyter-widgets/controls",
          "model_name": "SliderStyleModel",
          "model_module_version": "1.5.0",
          "state": {
            "_model_module": "@jupyter-widgets/controls",
            "_model_module_version": "1.5.0",
            "_model_name": "SliderStyleModel",
            "_view_count": null,
            "_view_module": "@jupyter-widgets/base",
            "_view_module_version": "1.2.0",
            "_view_name": "StyleView",
            "description_width": "",
            "handle_color": null
          }
        },
        "5b9ee89be40c4e52adeb3f1d8869cd7e": {
          "model_module": "@jupyter-widgets/base",
          "model_name": "LayoutModel",
          "model_module_version": "1.2.0",
          "state": {
            "_model_module": "@jupyter-widgets/base",
            "_model_module_version": "1.2.0",
            "_model_name": "LayoutModel",
            "_view_count": null,
            "_view_module": "@jupyter-widgets/base",
            "_view_module_version": "1.2.0",
            "_view_name": "LayoutView",
            "align_content": null,
            "align_items": null,
            "align_self": null,
            "border": null,
            "bottom": null,
            "display": null,
            "flex": null,
            "flex_flow": null,
            "grid_area": null,
            "grid_auto_columns": null,
            "grid_auto_flow": null,
            "grid_auto_rows": null,
            "grid_column": null,
            "grid_gap": null,
            "grid_row": null,
            "grid_template_areas": null,
            "grid_template_columns": null,
            "grid_template_rows": null,
            "height": null,
            "justify_content": null,
            "justify_items": null,
            "left": null,
            "margin": null,
            "max_height": null,
            "max_width": null,
            "min_height": null,
            "min_width": null,
            "object_fit": null,
            "object_position": null,
            "order": null,
            "overflow": null,
            "overflow_x": null,
            "overflow_y": null,
            "padding": null,
            "right": null,
            "top": null,
            "visibility": null,
            "width": null
          }
        },
        "75638d5d5f2b47a19659de06241baaf4": {
          "model_module": "@jupyter-widgets/controls",
          "model_name": "VBoxModel",
          "model_module_version": "1.5.0",
          "state": {
            "_dom_classes": [
              "widget-interact"
            ],
            "_model_module": "@jupyter-widgets/controls",
            "_model_module_version": "1.5.0",
            "_model_name": "VBoxModel",
            "_view_count": null,
            "_view_module": "@jupyter-widgets/controls",
            "_view_module_version": "1.5.0",
            "_view_name": "VBoxView",
            "box_style": "",
            "children": [
              "IPY_MODEL_0c37e55b69284642bff7374476bdb9c7",
              "IPY_MODEL_0a3cfcf3e94e47b685d069f16f5a6218",
              "IPY_MODEL_afa3eaffd3a941f194312b7df4c924bf"
            ],
            "layout": "IPY_MODEL_8ef884f84b494dd4b41982d3c46f15c2"
          }
        },
        "0c37e55b69284642bff7374476bdb9c7": {
          "model_module": "@jupyter-widgets/controls",
          "model_name": "IntSliderModel",
          "model_module_version": "1.5.0",
          "state": {
            "_dom_classes": [],
            "_model_module": "@jupyter-widgets/controls",
            "_model_module_version": "1.5.0",
            "_model_name": "IntSliderModel",
            "_view_count": null,
            "_view_module": "@jupyter-widgets/controls",
            "_view_module_version": "1.5.0",
            "_view_name": "IntSliderView",
            "continuous_update": true,
            "description": "w1",
            "description_tooltip": null,
            "disabled": false,
            "layout": "IPY_MODEL_d03d43caa53e4b91baa76db154b57ecb",
            "max": 30,
            "min": -10,
            "orientation": "horizontal",
            "readout": true,
            "readout_format": "d",
            "step": 1,
            "style": "IPY_MODEL_46da71137e4646ebb2b48657ff85c65b",
            "value": 10
          }
        },
        "0a3cfcf3e94e47b685d069f16f5a6218": {
          "model_module": "@jupyter-widgets/controls",
          "model_name": "IntSliderModel",
          "model_module_version": "1.5.0",
          "state": {
            "_dom_classes": [],
            "_model_module": "@jupyter-widgets/controls",
            "_model_module_version": "1.5.0",
            "_model_name": "IntSliderModel",
            "_view_count": null,
            "_view_module": "@jupyter-widgets/controls",
            "_view_module_version": "1.5.0",
            "_view_name": "IntSliderView",
            "continuous_update": true,
            "description": "b1",
            "description_tooltip": null,
            "disabled": false,
            "layout": "IPY_MODEL_49e3993ad617493c96b76ffb2a6383bc",
            "max": 6,
            "min": -2,
            "orientation": "horizontal",
            "readout": true,
            "readout_format": "d",
            "step": 1,
            "style": "IPY_MODEL_4ccd948d24664fbcae19e4f42d4619c9",
            "value": 2
          }
        },
        "afa3eaffd3a941f194312b7df4c924bf": {
          "model_module": "@jupyter-widgets/output",
          "model_name": "OutputModel",
          "model_module_version": "1.0.0",
          "state": {
            "_dom_classes": [],
            "_model_module": "@jupyter-widgets/output",
            "_model_module_version": "1.0.0",
            "_model_name": "OutputModel",
            "_view_count": null,
            "_view_module": "@jupyter-widgets/output",
            "_view_module_version": "1.0.0",
            "_view_name": "OutputView",
            "layout": "IPY_MODEL_1c276a1e3fde438d89fa690f07d8f1d7",
            "msg_id": "",
            "outputs": [
              {
                "output_type": "display_data",
                "data": {
                  "text/plain": "<Figure size 640x480 with 1 Axes>",
                  "image/png": "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\n"
                },
                "metadata": {}
              }
            ]
          }
        },
        "8ef884f84b494dd4b41982d3c46f15c2": {
          "model_module": "@jupyter-widgets/base",
          "model_name": "LayoutModel",
          "model_module_version": "1.2.0",
          "state": {
            "_model_module": "@jupyter-widgets/base",
            "_model_module_version": "1.2.0",
            "_model_name": "LayoutModel",
            "_view_count": null,
            "_view_module": "@jupyter-widgets/base",
            "_view_module_version": "1.2.0",
            "_view_name": "LayoutView",
            "align_content": null,
            "align_items": null,
            "align_self": null,
            "border": null,
            "bottom": null,
            "display": null,
            "flex": null,
            "flex_flow": null,
            "grid_area": null,
            "grid_auto_columns": null,
            "grid_auto_flow": null,
            "grid_auto_rows": null,
            "grid_column": null,
            "grid_gap": null,
            "grid_row": null,
            "grid_template_areas": null,
            "grid_template_columns": null,
            "grid_template_rows": null,
            "height": null,
            "justify_content": null,
            "justify_items": null,
            "left": null,
            "margin": null,
            "max_height": null,
            "max_width": null,
            "min_height": null,
            "min_width": null,
            "object_fit": null,
            "object_position": null,
            "order": null,
            "overflow": null,
            "overflow_x": null,
            "overflow_y": null,
            "padding": null,
            "right": null,
            "top": null,
            "visibility": null,
            "width": null
          }
        },
        "d03d43caa53e4b91baa76db154b57ecb": {
          "model_module": "@jupyter-widgets/base",
          "model_name": "LayoutModel",
          "model_module_version": "1.2.0",
          "state": {
            "_model_module": "@jupyter-widgets/base",
            "_model_module_version": "1.2.0",
            "_model_name": "LayoutModel",
            "_view_count": null,
            "_view_module": "@jupyter-widgets/base",
            "_view_module_version": "1.2.0",
            "_view_name": "LayoutView",
            "align_content": null,
            "align_items": null,
            "align_self": null,
            "border": null,
            "bottom": null,
            "display": null,
            "flex": null,
            "flex_flow": null,
            "grid_area": null,
            "grid_auto_columns": null,
            "grid_auto_flow": null,
            "grid_auto_rows": null,
            "grid_column": null,
            "grid_gap": null,
            "grid_row": null,
            "grid_template_areas": null,
            "grid_template_columns": null,
            "grid_template_rows": null,
            "height": null,
            "justify_content": null,
            "justify_items": null,
            "left": null,
            "margin": null,
            "max_height": null,
            "max_width": null,
            "min_height": null,
            "min_width": null,
            "object_fit": null,
            "object_position": null,
            "order": null,
            "overflow": null,
            "overflow_x": null,
            "overflow_y": null,
            "padding": null,
            "right": null,
            "top": null,
            "visibility": null,
            "width": null
          }
        },
        "46da71137e4646ebb2b48657ff85c65b": {
          "model_module": "@jupyter-widgets/controls",
          "model_name": "SliderStyleModel",
          "model_module_version": "1.5.0",
          "state": {
            "_model_module": "@jupyter-widgets/controls",
            "_model_module_version": "1.5.0",
            "_model_name": "SliderStyleModel",
            "_view_count": null,
            "_view_module": "@jupyter-widgets/base",
            "_view_module_version": "1.2.0",
            "_view_name": "StyleView",
            "description_width": "",
            "handle_color": null
          }
        },
        "49e3993ad617493c96b76ffb2a6383bc": {
          "model_module": "@jupyter-widgets/base",
          "model_name": "LayoutModel",
          "model_module_version": "1.2.0",
          "state": {
            "_model_module": "@jupyter-widgets/base",
            "_model_module_version": "1.2.0",
            "_model_name": "LayoutModel",
            "_view_count": null,
            "_view_module": "@jupyter-widgets/base",
            "_view_module_version": "1.2.0",
            "_view_name": "LayoutView",
            "align_content": null,
            "align_items": null,
            "align_self": null,
            "border": null,
            "bottom": null,
            "display": null,
            "flex": null,
            "flex_flow": null,
            "grid_area": null,
            "grid_auto_columns": null,
            "grid_auto_flow": null,
            "grid_auto_rows": null,
            "grid_column": null,
            "grid_gap": null,
            "grid_row": null,
            "grid_template_areas": null,
            "grid_template_columns": null,
            "grid_template_rows": null,
            "height": null,
            "justify_content": null,
            "justify_items": null,
            "left": null,
            "margin": null,
            "max_height": null,
            "max_width": null,
            "min_height": null,
            "min_width": null,
            "object_fit": null,
            "object_position": null,
            "order": null,
            "overflow": null,
            "overflow_x": null,
            "overflow_y": null,
            "padding": null,
            "right": null,
            "top": null,
            "visibility": null,
            "width": null
          }
        },
        "4ccd948d24664fbcae19e4f42d4619c9": {
          "model_module": "@jupyter-widgets/controls",
          "model_name": "SliderStyleModel",
          "model_module_version": "1.5.0",
          "state": {
            "_model_module": "@jupyter-widgets/controls",
            "_model_module_version": "1.5.0",
            "_model_name": "SliderStyleModel",
            "_view_count": null,
            "_view_module": "@jupyter-widgets/base",
            "_view_module_version": "1.2.0",
            "_view_name": "StyleView",
            "description_width": "",
            "handle_color": null
          }
        },
        "1c276a1e3fde438d89fa690f07d8f1d7": {
          "model_module": "@jupyter-widgets/base",
          "model_name": "LayoutModel",
          "model_module_version": "1.2.0",
          "state": {
            "_model_module": "@jupyter-widgets/base",
            "_model_module_version": "1.2.0",
            "_model_name": "LayoutModel",
            "_view_count": null,
            "_view_module": "@jupyter-widgets/base",
            "_view_module_version": "1.2.0",
            "_view_name": "LayoutView",
            "align_content": null,
            "align_items": null,
            "align_self": null,
            "border": null,
            "bottom": null,
            "display": null,
            "flex": null,
            "flex_flow": null,
            "grid_area": null,
            "grid_auto_columns": null,
            "grid_auto_flow": null,
            "grid_auto_rows": null,
            "grid_column": null,
            "grid_gap": null,
            "grid_row": null,
            "grid_template_areas": null,
            "grid_template_columns": null,
            "grid_template_rows": null,
            "height": null,
            "justify_content": null,
            "justify_items": null,
            "left": null,
            "margin": null,
            "max_height": null,
            "max_width": null,
            "min_height": null,
            "min_width": null,
            "object_fit": null,
            "object_position": null,
            "order": null,
            "overflow": null,
            "overflow_x": null,
            "overflow_y": null,
            "padding": null,
            "right": null,
            "top": null,
            "visibility": null,
            "width": null
          }
        },
        "71468c5793004fc4bf0f58127fddc89a": {
          "model_module": "@jupyter-widgets/controls",
          "model_name": "VBoxModel",
          "model_module_version": "1.5.0",
          "state": {
            "_dom_classes": [
              "widget-interact"
            ],
            "_model_module": "@jupyter-widgets/controls",
            "_model_module_version": "1.5.0",
            "_model_name": "VBoxModel",
            "_view_count": null,
            "_view_module": "@jupyter-widgets/controls",
            "_view_module_version": "1.5.0",
            "_view_name": "VBoxView",
            "box_style": "",
            "children": [
              "IPY_MODEL_ee3f955aecc54b1399f4b21b21f2cd2b",
              "IPY_MODEL_9c3df99c381948448fd7c18af2421d03",
              "IPY_MODEL_a3f1114f3ecf43968b03fb3fd9c7da25",
              "IPY_MODEL_f178162b5e00449cb3a6331862ebf6b8"
            ],
            "layout": "IPY_MODEL_60da11947d8f4bb98f60c7efb07a5caf"
          }
        },
        "ee3f955aecc54b1399f4b21b21f2cd2b": {
          "model_module": "@jupyter-widgets/controls",
          "model_name": "FloatSliderModel",
          "model_module_version": "1.5.0",
          "state": {
            "_dom_classes": [],
            "_model_module": "@jupyter-widgets/controls",
            "_model_module_version": "1.5.0",
            "_model_name": "FloatSliderModel",
            "_view_count": null,
            "_view_module": "@jupyter-widgets/controls",
            "_view_module_version": "1.5.0",
            "_view_name": "FloatSliderView",
            "continuous_update": true,
            "description": "w1",
            "description_tooltip": null,
            "disabled": false,
            "layout": "IPY_MODEL_42e6af16cb0341f787b4bde76b67f3e8",
            "max": 2,
            "min": -2,
            "orientation": "horizontal",
            "readout": true,
            "readout_format": ".2f",
            "step": 0.1,
            "style": "IPY_MODEL_6029fbcf6f64472082290aa2bf3a206f",
            "value": -2
          }
        },
        "9c3df99c381948448fd7c18af2421d03": {
          "model_module": "@jupyter-widgets/controls",
          "model_name": "FloatSliderModel",
          "model_module_version": "1.5.0",
          "state": {
            "_dom_classes": [],
            "_model_module": "@jupyter-widgets/controls",
            "_model_module_version": "1.5.0",
            "_model_name": "FloatSliderModel",
            "_view_count": null,
            "_view_module": "@jupyter-widgets/controls",
            "_view_module_version": "1.5.0",
            "_view_name": "FloatSliderView",
            "continuous_update": true,
            "description": "w2",
            "description_tooltip": null,
            "disabled": false,
            "layout": "IPY_MODEL_d79111720a23496198c4063fc45b3a60",
            "max": 2,
            "min": -2,
            "orientation": "horizontal",
            "readout": true,
            "readout_format": ".2f",
            "step": 0.1,
            "style": "IPY_MODEL_98bdae1975174cb995ccc01b2531a0e7",
            "value": 0.3
          }
        },
        "a3f1114f3ecf43968b03fb3fd9c7da25": {
          "model_module": "@jupyter-widgets/controls",
          "model_name": "FloatSliderModel",
          "model_module_version": "1.5.0",
          "state": {
            "_dom_classes": [],
            "_model_module": "@jupyter-widgets/controls",
            "_model_module_version": "1.5.0",
            "_model_name": "FloatSliderModel",
            "_view_count": null,
            "_view_module": "@jupyter-widgets/controls",
            "_view_module_version": "1.5.0",
            "_view_name": "FloatSliderView",
            "continuous_update": true,
            "description": "b",
            "description_tooltip": null,
            "disabled": false,
            "layout": "IPY_MODEL_2434fe3bf6254257905f332ab9360ae4",
            "max": 2,
            "min": -2,
            "orientation": "horizontal",
            "readout": true,
            "readout_format": ".2f",
            "step": 0.1,
            "style": "IPY_MODEL_6195073f6e5e4b758cd20da595cf54bd",
            "value": 0
          }
        },
        "f178162b5e00449cb3a6331862ebf6b8": {
          "model_module": "@jupyter-widgets/output",
          "model_name": "OutputModel",
          "model_module_version": "1.0.0",
          "state": {
            "_dom_classes": [],
            "_model_module": "@jupyter-widgets/output",
            "_model_module_version": "1.0.0",
            "_model_name": "OutputModel",
            "_view_count": null,
            "_view_module": "@jupyter-widgets/output",
            "_view_module_version": "1.0.0",
            "_view_name": "OutputView",
            "layout": "IPY_MODEL_428e96ba0e224dd0a1d35c36217aeb3b",
            "msg_id": "",
            "outputs": [
              {
                "output_type": "display_data",
                "data": {
                  "text/plain": "<Figure size 640x480 with 1 Axes>",
                  "image/png": "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\n"
                },
                "metadata": {}
              }
            ]
          }
        },
        "60da11947d8f4bb98f60c7efb07a5caf": {
          "model_module": "@jupyter-widgets/base",
          "model_name": "LayoutModel",
          "model_module_version": "1.2.0",
          "state": {
            "_model_module": "@jupyter-widgets/base",
            "_model_module_version": "1.2.0",
            "_model_name": "LayoutModel",
            "_view_count": null,
            "_view_module": "@jupyter-widgets/base",
            "_view_module_version": "1.2.0",
            "_view_name": "LayoutView",
            "align_content": null,
            "align_items": null,
            "align_self": null,
            "border": null,
            "bottom": null,
            "display": null,
            "flex": null,
            "flex_flow": null,
            "grid_area": null,
            "grid_auto_columns": null,
            "grid_auto_flow": null,
            "grid_auto_rows": null,
            "grid_column": null,
            "grid_gap": null,
            "grid_row": null,
            "grid_template_areas": null,
            "grid_template_columns": null,
            "grid_template_rows": null,
            "height": null,
            "justify_content": null,
            "justify_items": null,
            "left": null,
            "margin": null,
            "max_height": null,
            "max_width": null,
            "min_height": null,
            "min_width": null,
            "object_fit": null,
            "object_position": null,
            "order": null,
            "overflow": null,
            "overflow_x": null,
            "overflow_y": null,
            "padding": null,
            "right": null,
            "top": null,
            "visibility": null,
            "width": null
          }
        },
        "42e6af16cb0341f787b4bde76b67f3e8": {
          "model_module": "@jupyter-widgets/base",
          "model_name": "LayoutModel",
          "model_module_version": "1.2.0",
          "state": {
            "_model_module": "@jupyter-widgets/base",
            "_model_module_version": "1.2.0",
            "_model_name": "LayoutModel",
            "_view_count": null,
            "_view_module": "@jupyter-widgets/base",
            "_view_module_version": "1.2.0",
            "_view_name": "LayoutView",
            "align_content": null,
            "align_items": null,
            "align_self": null,
            "border": null,
            "bottom": null,
            "display": null,
            "flex": null,
            "flex_flow": null,
            "grid_area": null,
            "grid_auto_columns": null,
            "grid_auto_flow": null,
            "grid_auto_rows": null,
            "grid_column": null,
            "grid_gap": null,
            "grid_row": null,
            "grid_template_areas": null,
            "grid_template_columns": null,
            "grid_template_rows": null,
            "height": null,
            "justify_content": null,
            "justify_items": null,
            "left": null,
            "margin": null,
            "max_height": null,
            "max_width": null,
            "min_height": null,
            "min_width": null,
            "object_fit": null,
            "object_position": null,
            "order": null,
            "overflow": null,
            "overflow_x": null,
            "overflow_y": null,
            "padding": null,
            "right": null,
            "top": null,
            "visibility": null,
            "width": null
          }
        },
        "6029fbcf6f64472082290aa2bf3a206f": {
          "model_module": "@jupyter-widgets/controls",
          "model_name": "SliderStyleModel",
          "model_module_version": "1.5.0",
          "state": {
            "_model_module": "@jupyter-widgets/controls",
            "_model_module_version": "1.5.0",
            "_model_name": "SliderStyleModel",
            "_view_count": null,
            "_view_module": "@jupyter-widgets/base",
            "_view_module_version": "1.2.0",
            "_view_name": "StyleView",
            "description_width": "",
            "handle_color": null
          }
        },
        "d79111720a23496198c4063fc45b3a60": {
          "model_module": "@jupyter-widgets/base",
          "model_name": "LayoutModel",
          "model_module_version": "1.2.0",
          "state": {
            "_model_module": "@jupyter-widgets/base",
            "_model_module_version": "1.2.0",
            "_model_name": "LayoutModel",
            "_view_count": null,
            "_view_module": "@jupyter-widgets/base",
            "_view_module_version": "1.2.0",
            "_view_name": "LayoutView",
            "align_content": null,
            "align_items": null,
            "align_self": null,
            "border": null,
            "bottom": null,
            "display": null,
            "flex": null,
            "flex_flow": null,
            "grid_area": null,
            "grid_auto_columns": null,
            "grid_auto_flow": null,
            "grid_auto_rows": null,
            "grid_column": null,
            "grid_gap": null,
            "grid_row": null,
            "grid_template_areas": null,
            "grid_template_columns": null,
            "grid_template_rows": null,
            "height": null,
            "justify_content": null,
            "justify_items": null,
            "left": null,
            "margin": null,
            "max_height": null,
            "max_width": null,
            "min_height": null,
            "min_width": null,
            "object_fit": null,
            "object_position": null,
            "order": null,
            "overflow": null,
            "overflow_x": null,
            "overflow_y": null,
            "padding": null,
            "right": null,
            "top": null,
            "visibility": null,
            "width": null
          }
        },
        "98bdae1975174cb995ccc01b2531a0e7": {
          "model_module": "@jupyter-widgets/controls",
          "model_name": "SliderStyleModel",
          "model_module_version": "1.5.0",
          "state": {
            "_model_module": "@jupyter-widgets/controls",
            "_model_module_version": "1.5.0",
            "_model_name": "SliderStyleModel",
            "_view_count": null,
            "_view_module": "@jupyter-widgets/base",
            "_view_module_version": "1.2.0",
            "_view_name": "StyleView",
            "description_width": "",
            "handle_color": null
          }
        },
        "2434fe3bf6254257905f332ab9360ae4": {
          "model_module": "@jupyter-widgets/base",
          "model_name": "LayoutModel",
          "model_module_version": "1.2.0",
          "state": {
            "_model_module": "@jupyter-widgets/base",
            "_model_module_version": "1.2.0",
            "_model_name": "LayoutModel",
            "_view_count": null,
            "_view_module": "@jupyter-widgets/base",
            "_view_module_version": "1.2.0",
            "_view_name": "LayoutView",
            "align_content": null,
            "align_items": null,
            "align_self": null,
            "border": null,
            "bottom": null,
            "display": null,
            "flex": null,
            "flex_flow": null,
            "grid_area": null,
            "grid_auto_columns": null,
            "grid_auto_flow": null,
            "grid_auto_rows": null,
            "grid_column": null,
            "grid_gap": null,
            "grid_row": null,
            "grid_template_areas": null,
            "grid_template_columns": null,
            "grid_template_rows": null,
            "height": null,
            "justify_content": null,
            "justify_items": null,
            "left": null,
            "margin": null,
            "max_height": null,
            "max_width": null,
            "min_height": null,
            "min_width": null,
            "object_fit": null,
            "object_position": null,
            "order": null,
            "overflow": null,
            "overflow_x": null,
            "overflow_y": null,
            "padding": null,
            "right": null,
            "top": null,
            "visibility": null,
            "width": null
          }
        },
        "6195073f6e5e4b758cd20da595cf54bd": {
          "model_module": "@jupyter-widgets/controls",
          "model_name": "SliderStyleModel",
          "model_module_version": "1.5.0",
          "state": {
            "_model_module": "@jupyter-widgets/controls",
            "_model_module_version": "1.5.0",
            "_model_name": "SliderStyleModel",
            "_view_count": null,
            "_view_module": "@jupyter-widgets/base",
            "_view_module_version": "1.2.0",
            "_view_name": "StyleView",
            "description_width": "",
            "handle_color": null
          }
        },
        "428e96ba0e224dd0a1d35c36217aeb3b": {
          "model_module": "@jupyter-widgets/base",
          "model_name": "LayoutModel",
          "model_module_version": "1.2.0",
          "state": {
            "_model_module": "@jupyter-widgets/base",
            "_model_module_version": "1.2.0",
            "_model_name": "LayoutModel",
            "_view_count": null,
            "_view_module": "@jupyter-widgets/base",
            "_view_module_version": "1.2.0",
            "_view_name": "LayoutView",
            "align_content": null,
            "align_items": null,
            "align_self": null,
            "border": null,
            "bottom": null,
            "display": null,
            "flex": null,
            "flex_flow": null,
            "grid_area": null,
            "grid_auto_columns": null,
            "grid_auto_flow": null,
            "grid_auto_rows": null,
            "grid_column": null,
            "grid_gap": null,
            "grid_row": null,
            "grid_template_areas": null,
            "grid_template_columns": null,
            "grid_template_rows": null,
            "height": null,
            "justify_content": null,
            "justify_items": null,
            "left": null,
            "margin": null,
            "max_height": null,
            "max_width": null,
            "min_height": null,
            "min_width": null,
            "object_fit": null,
            "object_position": null,
            "order": null,
            "overflow": null,
            "overflow_x": null,
            "overflow_y": null,
            "padding": null,
            "right": null,
            "top": null,
            "visibility": null,
            "width": null
          }
        }
      }
    }
  },
  "cells": [
    {
      "cell_type": "markdown",
      "source": [
        "#MP neuron"
      ],
      "metadata": {
        "id": "2BCveLu0S3Eq"
      }
    },
    {
      "cell_type": "markdown",
      "source": [
        "$y =1, $if $f(x) > $b\n",
        "\n",
        "$= 0, $otherwise"
      ],
      "metadata": {
        "id": "PkE4cRbcWzAt"
      }
    },
    {
      "cell_type": "code",
      "source": [],
      "metadata": {
        "id": "a-qzhhKgS6jG"
      },
      "execution_count": null,
      "outputs": []
    },
    {
      "cell_type": "code",
      "source": [
        "from ipywidgets import interact\n",
        "import numpy as np\n",
        "import matplotlib.pyplot as plt\n",
        "\n",
        "def mp_neuron_plot(b=2):\n",
        "  def MP_neuron(x1,b):\n",
        "    if (x1)>=b:\n",
        "        y= 1\n",
        "    else:\n",
        "       y= 0\n",
        "    return y\n",
        "\n",
        "  x1=np.arange(-50,50,0.1)\n",
        "\n",
        "  y=[]\n",
        "  for i in range(len(x1)):\n",
        "    y.append(MP_neuron(x1[i],b))\n",
        "  y=np.array(y)\n",
        "\n",
        "  plt.figure()\n",
        "  plt.plot(x1,y,'red',linewidth=2)\n",
        "  plt.grid(True)\n",
        "  plt.xlabel('x1')\n",
        "  plt.ylabel('y')\n",
        "  plt.title('MP Neuron')\n",
        "  plt.show()\n",
        "\n",
        "\n",
        "interact(mp_neuron_plot,b=(-20,20,0.1))"
      ],
      "metadata": {
        "id": "BeiDCzhRWrIL",
        "colab": {
          "base_uri": "https://localhost:8080/",
          "height": 591,
          "referenced_widgets": [
            "515096a76058492ba3c3879c1b41bc6b",
            "4995ff22d2dc4c12a5850a3230a4cb9c",
            "c395c51a9a5b4c1d9c0e8eadee22a6ce",
            "3b5521b1173f432ab442f8cc767db9bb",
            "d88efaeb764a4c65882084d9284e8456",
            "df7fae3c0caf42b5b663fb1d5dec569c",
            "5b9ee89be40c4e52adeb3f1d8869cd7e"
          ]
        },
        "outputId": "ba7fd11a-4d0e-4051-f52f-dd6e4e4dc1cb"
      },
      "execution_count": null,
      "outputs": [
        {
          "output_type": "display_data",
          "data": {
            "text/plain": [
              "interactive(children=(FloatSlider(value=2.0, description='b', max=20.0, min=-20.0), Output()), _dom_classes=('…"
            ],
            "application/vnd.jupyter.widget-view+json": {
              "version_major": 2,
              "version_minor": 0,
              "model_id": "515096a76058492ba3c3879c1b41bc6b"
            }
          },
          "metadata": {}
        },
        {
          "output_type": "execute_result",
          "data": {
            "text/plain": [
              "<function __main__.mp_neuron_plot(b=2)>"
            ],
            "text/html": [
              "<div style=\"max-width:800px; border: 1px solid var(--colab-border-color);\"><style>\n",
              "      pre.function-repr-contents {\n",
              "        overflow-x: auto;\n",
              "        padding: 8px 12px;\n",
              "        max-height: 500px;\n",
              "      }\n",
              "\n",
              "      pre.function-repr-contents.function-repr-contents-collapsed {\n",
              "        cursor: pointer;\n",
              "        max-height: 100px;\n",
              "      }\n",
              "    </style>\n",
              "    <pre style=\"white-space: initial; background:\n",
              "         var(--colab-secondary-surface-color); padding: 8px 12px;\n",
              "         border-bottom: 1px solid var(--colab-border-color);\"><b>mp_neuron_plot</b><br/>def mp_neuron_plot(b=2)</pre><pre class=\"function-repr-contents function-repr-contents-collapsed\" style=\"\"><a class=\"filepath\" style=\"display:none\" href=\"#\">/content/&lt;ipython-input-14-b0454b5ac4af&gt;</a>&lt;no docstring&gt;</pre></div>"
            ]
          },
          "metadata": {},
          "execution_count": 14
        }
      ]
    },
    {
      "cell_type": "markdown",
      "source": [
        "## Sigmoid function\n",
        "\n",
        "$ f(x)=1$ /$ 1$ +$ e^-(wx+b)$\n"
      ],
      "metadata": {
        "id": "E45AlwvBLllJ"
      }
    },
    {
      "cell_type": "markdown",
      "source": [
        "# Plotting one-dimensional Sigmoid function"
      ],
      "metadata": {
        "id": "lymzBBswPBEV"
      }
    },
    {
      "cell_type": "code",
      "source": [
        "import numpy as np\n",
        "import matplotlib.pyplot as plt\n",
        "import math\n",
        "from ipywidgets import interact\n",
        "def plot_sigmoid1d(w1=10,b1=2):\n",
        "  def sigmoid(x):\n",
        "    y= 1/(1+math.exp(-x))\n",
        "    return y\n",
        "\n",
        "  y_1dsig=[]\n",
        "  x=np.arange(-50,50,0.1)\n",
        "  for i in range(len(x)):\n",
        "    y_1dsig.append(sigmoid(w1*x[i]+b1))\n",
        "\n",
        "  y_1dsig=np.array(y_1dsig)\n",
        "  ## plotting\n",
        "  plt.figure()\n",
        "  plt.plot(x,y_1dsig,'r',label='w='+str(w1)+',b='+str(b1))\n",
        "\n",
        "  plt.legend()\n",
        "  plt.grid(True)\n",
        "  plt.xlabel('x')\n",
        "  plt.ylabel('y')\n",
        "  plt.title('Sigmoid Function-1D')\n",
        "  plt.show()\n",
        "\n",
        "\n",
        "interact(plot_sigmoid1d,w=(-10,10,0.1),b=(-2,2,0.1))"
      ],
      "metadata": {
        "colab": {
          "base_uri": "https://localhost:8080/",
          "height": 623,
          "referenced_widgets": [
            "75638d5d5f2b47a19659de06241baaf4",
            "0c37e55b69284642bff7374476bdb9c7",
            "0a3cfcf3e94e47b685d069f16f5a6218",
            "afa3eaffd3a941f194312b7df4c924bf",
            "8ef884f84b494dd4b41982d3c46f15c2",
            "d03d43caa53e4b91baa76db154b57ecb",
            "46da71137e4646ebb2b48657ff85c65b",
            "49e3993ad617493c96b76ffb2a6383bc",
            "4ccd948d24664fbcae19e4f42d4619c9",
            "1c276a1e3fde438d89fa690f07d8f1d7"
          ]
        },
        "id": "z25Z9zSsNCKR",
        "outputId": "be28d02a-37f6-4319-866c-6c0ac929ce0f"
      },
      "execution_count": null,
      "outputs": [
        {
          "output_type": "display_data",
          "data": {
            "text/plain": [
              "interactive(children=(IntSlider(value=10, description='w1', max=30, min=-10), IntSlider(value=2, description='…"
            ],
            "application/vnd.jupyter.widget-view+json": {
              "version_major": 2,
              "version_minor": 0,
              "model_id": "75638d5d5f2b47a19659de06241baaf4"
            }
          },
          "metadata": {}
        },
        {
          "output_type": "execute_result",
          "data": {
            "text/plain": [
              "<function __main__.plot_sigmoid1d(w1=10, b1=2)>"
            ],
            "text/html": [
              "<div style=\"max-width:800px; border: 1px solid var(--colab-border-color);\"><style>\n",
              "      pre.function-repr-contents {\n",
              "        overflow-x: auto;\n",
              "        padding: 8px 12px;\n",
              "        max-height: 500px;\n",
              "      }\n",
              "\n",
              "      pre.function-repr-contents.function-repr-contents-collapsed {\n",
              "        cursor: pointer;\n",
              "        max-height: 100px;\n",
              "      }\n",
              "    </style>\n",
              "    <pre style=\"white-space: initial; background:\n",
              "         var(--colab-secondary-surface-color); padding: 8px 12px;\n",
              "         border-bottom: 1px solid var(--colab-border-color);\"><b>plot_sigmoid1d</b><br/>def plot_sigmoid1d(w1=10, b1=2)</pre><pre class=\"function-repr-contents function-repr-contents-collapsed\" style=\"\"><a class=\"filepath\" style=\"display:none\" href=\"#\">/content/&lt;ipython-input-18-ae612e706e49&gt;</a>&lt;no docstring&gt;</pre></div>"
            ]
          },
          "metadata": {},
          "execution_count": 18
        }
      ]
    },
    {
      "cell_type": "markdown",
      "source": [
        "# Plotting 2D Sigmoid function"
      ],
      "metadata": {
        "id": "zLha4-jDRtMy"
      }
    },
    {
      "cell_type": "code",
      "source": [
        "def sigmoid_2d(x1,x2,w1,w2,b):\n",
        "    return 1/(1+np.exp(-(w1*x1+w2*x2+b)))"
      ],
      "metadata": {
        "id": "u6TVN4-3R1Pv"
      },
      "execution_count": null,
      "outputs": []
    },
    {
      "cell_type": "code",
      "source": [
        "from ipywidgets import interact\n",
        "import numpy as np\n",
        "import matplotlib.pyplot as plt\n",
        "from mpl_toolkits.mplot3d import Axes3D\n",
        "\n",
        "# Define the sigmoid function\n",
        "def sigmoid_2d(x1, x2, w1, w2, b):\n",
        "    return 1 / (1 + np.exp(-(w1 * x1 + w2 * x2 + b)))\n",
        "\n",
        "# Define the plotting function\n",
        "def plot_sigmoid(w1=0.2, w2=0.3, b=0):\n",
        "    x1 = np.arange(-10, 10, 0.1)\n",
        "    x2 = np.arange(-20, 20, 0.1)\n",
        "    X1, X2 = np.meshgrid(x1, x2)\n",
        "    y = sigmoid_2d(X1, X2, w1, w2, b)\n",
        "\n",
        "    fig = plt.figure()\n",
        "    ax = fig.add_subplot(111, projection='3d')\n",
        "    ax.plot_wireframe(X1, X2, y)\n",
        "\n",
        "    plt.grid(True)\n",
        "    plt.xlabel('x1')\n",
        "    plt.ylabel('x2')\n",
        "    plt.title('Sigmoid Function-2D')\n",
        "    plt.show()\n",
        "\n",
        "# Use interact to create sliders and link them to the plotting function\n",
        "interact(plot_sigmoid, w1=(-2, 2, 0.1), w2=(-2, 2, 0.1), b=(-2, 2, 0.1))"
      ],
      "metadata": {
        "id": "T9-PAAzyWxCF",
        "colab": {
          "base_uri": "https://localhost:8080/",
          "height": 621,
          "referenced_widgets": [
            "71468c5793004fc4bf0f58127fddc89a",
            "ee3f955aecc54b1399f4b21b21f2cd2b",
            "9c3df99c381948448fd7c18af2421d03",
            "a3f1114f3ecf43968b03fb3fd9c7da25",
            "f178162b5e00449cb3a6331862ebf6b8",
            "60da11947d8f4bb98f60c7efb07a5caf",
            "42e6af16cb0341f787b4bde76b67f3e8",
            "6029fbcf6f64472082290aa2bf3a206f",
            "d79111720a23496198c4063fc45b3a60",
            "98bdae1975174cb995ccc01b2531a0e7",
            "2434fe3bf6254257905f332ab9360ae4",
            "6195073f6e5e4b758cd20da595cf54bd",
            "428e96ba0e224dd0a1d35c36217aeb3b"
          ]
        },
        "outputId": "b27852c9-48dc-4ad9-f1bc-7fddbb713353"
      },
      "execution_count": null,
      "outputs": [
        {
          "output_type": "display_data",
          "data": {
            "text/plain": [
              "interactive(children=(FloatSlider(value=0.2, description='w1', max=2.0, min=-2.0), FloatSlider(value=0.3, desc…"
            ],
            "application/vnd.jupyter.widget-view+json": {
              "version_major": 2,
              "version_minor": 0,
              "model_id": "71468c5793004fc4bf0f58127fddc89a"
            }
          },
          "metadata": {}
        },
        {
          "output_type": "execute_result",
          "data": {
            "text/plain": [
              "<function __main__.plot_sigmoid(w1=0.2, w2=0.3, b=0)>"
            ],
            "text/html": [
              "<div style=\"max-width:800px; border: 1px solid var(--colab-border-color);\"><style>\n",
              "      pre.function-repr-contents {\n",
              "        overflow-x: auto;\n",
              "        padding: 8px 12px;\n",
              "        max-height: 500px;\n",
              "      }\n",
              "\n",
              "      pre.function-repr-contents.function-repr-contents-collapsed {\n",
              "        cursor: pointer;\n",
              "        max-height: 100px;\n",
              "      }\n",
              "    </style>\n",
              "    <pre style=\"white-space: initial; background:\n",
              "         var(--colab-secondary-surface-color); padding: 8px 12px;\n",
              "         border-bottom: 1px solid var(--colab-border-color);\"><b>plot_sigmoid</b><br/>def plot_sigmoid(w1=0.2, w2=0.3, b=0)</pre><pre class=\"function-repr-contents function-repr-contents-collapsed\" style=\"\"><a class=\"filepath\" style=\"display:none\" href=\"#\">/content/&lt;ipython-input-6-660243b9b448&gt;</a>&lt;no docstring&gt;</pre></div>"
            ]
          },
          "metadata": {},
          "execution_count": 6
        }
      ]
    },
    {
      "cell_type": "code",
      "source": [],
      "metadata": {
        "id": "VLi5oio_bacU"
      },
      "execution_count": null,
      "outputs": []
    },
    {
      "cell_type": "markdown",
      "source": [
        "class to plot all the neurons"
      ],
      "metadata": {
        "id": "_5h13hVa_mzk"
      }
    },
    {
      "cell_type": "code",
      "source": [
        "class neurons_try:\n",
        "\n",
        "  def __init__(self):\n",
        "    self.plot_MP()\n",
        "\n",
        "\n",
        "  def MP_neuron(self,x1,b):\n",
        "    if (x1)>=b:\n",
        "        y= 1\n",
        "    else:\n",
        "       y= 0\n",
        "    return y\n",
        "\n",
        "  def plot_MP(self):\n",
        "\n",
        "    x1=np.arange(0,10,0.1)\n",
        "    b=5\n",
        "    self.MP_neuron(x1,b)\n",
        "    y=[]\n",
        "    for i in range(len(x1)):\n",
        "      y.append(MP_neuron(x1[i],b))\n",
        "    y=np.array(y)\n",
        "\n",
        "    plt.figure()\n",
        "    plt.plot(x1,y)\n",
        "    plt.grid(True)\n",
        "    plt.xlabel('x1')\n",
        "    plt.ylabel('y')\n",
        "    plt.title('MP Neuron')\n",
        "    plt.show()"
      ],
      "metadata": {
        "id": "e9P6oVAv_q-u"
      },
      "execution_count": null,
      "outputs": []
    },
    {
      "cell_type": "code",
      "source": [
        "neurons_try"
      ],
      "metadata": {
        "colab": {
          "base_uri": "https://localhost:8080/",
          "height": 104
        },
        "id": "bIU9d42HA-7V",
        "outputId": "17eb5a71-2eea-4043-a032-93687d572022"
      },
      "execution_count": null,
      "outputs": [
        {
          "output_type": "execute_result",
          "data": {
            "text/plain": [
              "__main__.neurons_try"
            ],
            "text/html": [
              "<div style=\"max-width:800px; border: 1px solid var(--colab-border-color);\"><style>\n",
              "      pre.function-repr-contents {\n",
              "        overflow-x: auto;\n",
              "        padding: 8px 12px;\n",
              "        max-height: 500px;\n",
              "      }\n",
              "\n",
              "      pre.function-repr-contents.function-repr-contents-collapsed {\n",
              "        cursor: pointer;\n",
              "        max-height: 100px;\n",
              "      }\n",
              "    </style>\n",
              "    <pre style=\"white-space: initial; background:\n",
              "         var(--colab-secondary-surface-color); padding: 8px 12px;\n",
              "         border-bottom: 1px solid var(--colab-border-color);\"><b>neurons_try</b><br/>def __init__()</pre><pre class=\"function-repr-contents function-repr-contents-collapsed\" style=\"\"><a class=\"filepath\" style=\"display:none\" href=\"#\"></a>&lt;no docstring&gt;</pre></div>"
            ]
          },
          "metadata": {},
          "execution_count": 16
        }
      ]
    }
  ]
}