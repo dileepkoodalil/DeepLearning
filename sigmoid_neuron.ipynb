{
  "nbformat": 4,
  "nbformat_minor": 0,
  "metadata": {
    "colab": {
      "provenance": [],
      "toc_visible": true,
      "include_colab_link": true
    },
    "kernelspec": {
      "name": "python3",
      "display_name": "Python 3"
    },
    "language_info": {
      "name": "python"
    },
    "widgets": {
      "application/vnd.jupyter.widget-state+json": {
        "a2aba3cf34bd4ad6aff23265d85ee9ea": {
          "model_module": "@jupyter-widgets/controls",
          "model_name": "VBoxModel",
          "model_module_version": "1.5.0",
          "state": {
            "_dom_classes": [
              "widget-interact"
            ],
            "_model_module": "@jupyter-widgets/controls",
            "_model_module_version": "1.5.0",
            "_model_name": "VBoxModel",
            "_view_count": null,
            "_view_module": "@jupyter-widgets/controls",
            "_view_module_version": "1.5.0",
            "_view_name": "VBoxView",
            "box_style": "",
            "children": [
              "IPY_MODEL_e0ee9dcc2f1f45bda3ac8248a16d1ee2",
              "IPY_MODEL_904f2a411c0a4c88a85b899eafe812f2",
              "IPY_MODEL_478f4cd0548e40d7802d54f312618733"
            ],
            "layout": "IPY_MODEL_e83c1c56f7fa45d187ad789c0baf85ba"
          }
        },
        "e0ee9dcc2f1f45bda3ac8248a16d1ee2": {
          "model_module": "@jupyter-widgets/controls",
          "model_name": "FloatSliderModel",
          "model_module_version": "1.5.0",
          "state": {
            "_dom_classes": [],
            "_model_module": "@jupyter-widgets/controls",
            "_model_module_version": "1.5.0",
            "_model_name": "FloatSliderModel",
            "_view_count": null,
            "_view_module": "@jupyter-widgets/controls",
            "_view_module_version": "1.5.0",
            "_view_name": "FloatSliderView",
            "continuous_update": true,
            "description": "w",
            "description_tooltip": null,
            "disabled": false,
            "layout": "IPY_MODEL_8b5057c4407f415da5db43ecabfea135",
            "max": 20,
            "min": -20,
            "orientation": "horizontal",
            "readout": true,
            "readout_format": ".2f",
            "step": 0.5,
            "style": "IPY_MODEL_bc9f93806a764e7ca9bedb6cc34694a1",
            "value": 1
          }
        },
        "904f2a411c0a4c88a85b899eafe812f2": {
          "model_module": "@jupyter-widgets/controls",
          "model_name": "FloatSliderModel",
          "model_module_version": "1.5.0",
          "state": {
            "_dom_classes": [],
            "_model_module": "@jupyter-widgets/controls",
            "_model_module_version": "1.5.0",
            "_model_name": "FloatSliderModel",
            "_view_count": null,
            "_view_module": "@jupyter-widgets/controls",
            "_view_module_version": "1.5.0",
            "_view_name": "FloatSliderView",
            "continuous_update": true,
            "description": "b",
            "description_tooltip": null,
            "disabled": false,
            "layout": "IPY_MODEL_8c3527c401c244e196500360fce96d89",
            "max": 10,
            "min": -10,
            "orientation": "horizontal",
            "readout": true,
            "readout_format": ".2f",
            "step": 2,
            "style": "IPY_MODEL_65cdd3eb91a1419193bf3c6e85d4a523",
            "value": 0
          }
        },
        "478f4cd0548e40d7802d54f312618733": {
          "model_module": "@jupyter-widgets/output",
          "model_name": "OutputModel",
          "model_module_version": "1.0.0",
          "state": {
            "_dom_classes": [],
            "_model_module": "@jupyter-widgets/output",
            "_model_module_version": "1.0.0",
            "_model_name": "OutputModel",
            "_view_count": null,
            "_view_module": "@jupyter-widgets/output",
            "_view_module_version": "1.0.0",
            "_view_name": "OutputView",
            "layout": "IPY_MODEL_0945218bc471451f8c673d94b7a65a77",
            "msg_id": "",
            "outputs": [
              {
                "output_type": "display_data",
                "data": {
                  "text/plain": "<Figure size 640x480 with 1 Axes>",
                  "image/png": "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\n"
                },
                "metadata": {}
              }
            ]
          }
        },
        "e83c1c56f7fa45d187ad789c0baf85ba": {
          "model_module": "@jupyter-widgets/base",
          "model_name": "LayoutModel",
          "model_module_version": "1.2.0",
          "state": {
            "_model_module": "@jupyter-widgets/base",
            "_model_module_version": "1.2.0",
            "_model_name": "LayoutModel",
            "_view_count": null,
            "_view_module": "@jupyter-widgets/base",
            "_view_module_version": "1.2.0",
            "_view_name": "LayoutView",
            "align_content": null,
            "align_items": null,
            "align_self": null,
            "border": null,
            "bottom": null,
            "display": null,
            "flex": null,
            "flex_flow": null,
            "grid_area": null,
            "grid_auto_columns": null,
            "grid_auto_flow": null,
            "grid_auto_rows": null,
            "grid_column": null,
            "grid_gap": null,
            "grid_row": null,
            "grid_template_areas": null,
            "grid_template_columns": null,
            "grid_template_rows": null,
            "height": null,
            "justify_content": null,
            "justify_items": null,
            "left": null,
            "margin": null,
            "max_height": null,
            "max_width": null,
            "min_height": null,
            "min_width": null,
            "object_fit": null,
            "object_position": null,
            "order": null,
            "overflow": null,
            "overflow_x": null,
            "overflow_y": null,
            "padding": null,
            "right": null,
            "top": null,
            "visibility": null,
            "width": null
          }
        },
        "8b5057c4407f415da5db43ecabfea135": {
          "model_module": "@jupyter-widgets/base",
          "model_name": "LayoutModel",
          "model_module_version": "1.2.0",
          "state": {
            "_model_module": "@jupyter-widgets/base",
            "_model_module_version": "1.2.0",
            "_model_name": "LayoutModel",
            "_view_count": null,
            "_view_module": "@jupyter-widgets/base",
            "_view_module_version": "1.2.0",
            "_view_name": "LayoutView",
            "align_content": null,
            "align_items": null,
            "align_self": null,
            "border": null,
            "bottom": null,
            "display": null,
            "flex": null,
            "flex_flow": null,
            "grid_area": null,
            "grid_auto_columns": null,
            "grid_auto_flow": null,
            "grid_auto_rows": null,
            "grid_column": null,
            "grid_gap": null,
            "grid_row": null,
            "grid_template_areas": null,
            "grid_template_columns": null,
            "grid_template_rows": null,
            "height": null,
            "justify_content": null,
            "justify_items": null,
            "left": null,
            "margin": null,
            "max_height": null,
            "max_width": null,
            "min_height": null,
            "min_width": null,
            "object_fit": null,
            "object_position": null,
            "order": null,
            "overflow": null,
            "overflow_x": null,
            "overflow_y": null,
            "padding": null,
            "right": null,
            "top": null,
            "visibility": null,
            "width": null
          }
        },
        "bc9f93806a764e7ca9bedb6cc34694a1": {
          "model_module": "@jupyter-widgets/controls",
          "model_name": "SliderStyleModel",
          "model_module_version": "1.5.0",
          "state": {
            "_model_module": "@jupyter-widgets/controls",
            "_model_module_version": "1.5.0",
            "_model_name": "SliderStyleModel",
            "_view_count": null,
            "_view_module": "@jupyter-widgets/base",
            "_view_module_version": "1.2.0",
            "_view_name": "StyleView",
            "description_width": "",
            "handle_color": null
          }
        },
        "8c3527c401c244e196500360fce96d89": {
          "model_module": "@jupyter-widgets/base",
          "model_name": "LayoutModel",
          "model_module_version": "1.2.0",
          "state": {
            "_model_module": "@jupyter-widgets/base",
            "_model_module_version": "1.2.0",
            "_model_name": "LayoutModel",
            "_view_count": null,
            "_view_module": "@jupyter-widgets/base",
            "_view_module_version": "1.2.0",
            "_view_name": "LayoutView",
            "align_content": null,
            "align_items": null,
            "align_self": null,
            "border": null,
            "bottom": null,
            "display": null,
            "flex": null,
            "flex_flow": null,
            "grid_area": null,
            "grid_auto_columns": null,
            "grid_auto_flow": null,
            "grid_auto_rows": null,
            "grid_column": null,
            "grid_gap": null,
            "grid_row": null,
            "grid_template_areas": null,
            "grid_template_columns": null,
            "grid_template_rows": null,
            "height": null,
            "justify_content": null,
            "justify_items": null,
            "left": null,
            "margin": null,
            "max_height": null,
            "max_width": null,
            "min_height": null,
            "min_width": null,
            "object_fit": null,
            "object_position": null,
            "order": null,
            "overflow": null,
            "overflow_x": null,
            "overflow_y": null,
            "padding": null,
            "right": null,
            "top": null,
            "visibility": null,
            "width": null
          }
        },
        "65cdd3eb91a1419193bf3c6e85d4a523": {
          "model_module": "@jupyter-widgets/controls",
          "model_name": "SliderStyleModel",
          "model_module_version": "1.5.0",
          "state": {
            "_model_module": "@jupyter-widgets/controls",
            "_model_module_version": "1.5.0",
            "_model_name": "SliderStyleModel",
            "_view_count": null,
            "_view_module": "@jupyter-widgets/base",
            "_view_module_version": "1.2.0",
            "_view_name": "StyleView",
            "description_width": "",
            "handle_color": null
          }
        },
        "0945218bc471451f8c673d94b7a65a77": {
          "model_module": "@jupyter-widgets/base",
          "model_name": "LayoutModel",
          "model_module_version": "1.2.0",
          "state": {
            "_model_module": "@jupyter-widgets/base",
            "_model_module_version": "1.2.0",
            "_model_name": "LayoutModel",
            "_view_count": null,
            "_view_module": "@jupyter-widgets/base",
            "_view_module_version": "1.2.0",
            "_view_name": "LayoutView",
            "align_content": null,
            "align_items": null,
            "align_self": null,
            "border": null,
            "bottom": null,
            "display": null,
            "flex": null,
            "flex_flow": null,
            "grid_area": null,
            "grid_auto_columns": null,
            "grid_auto_flow": null,
            "grid_auto_rows": null,
            "grid_column": null,
            "grid_gap": null,
            "grid_row": null,
            "grid_template_areas": null,
            "grid_template_columns": null,
            "grid_template_rows": null,
            "height": null,
            "justify_content": null,
            "justify_items": null,
            "left": null,
            "margin": null,
            "max_height": null,
            "max_width": null,
            "min_height": null,
            "min_width": null,
            "object_fit": null,
            "object_position": null,
            "order": null,
            "overflow": null,
            "overflow_x": null,
            "overflow_y": null,
            "padding": null,
            "right": null,
            "top": null,
            "visibility": null,
            "width": null
          }
        },
        "23d515ff5ae9492a82a0d5d7345a84b5": {
          "model_module": "@jupyter-widgets/controls",
          "model_name": "VBoxModel",
          "model_module_version": "1.5.0",
          "state": {
            "_dom_classes": [
              "widget-interact"
            ],
            "_model_module": "@jupyter-widgets/controls",
            "_model_module_version": "1.5.0",
            "_model_name": "VBoxModel",
            "_view_count": null,
            "_view_module": "@jupyter-widgets/controls",
            "_view_module_version": "1.5.0",
            "_view_name": "VBoxView",
            "box_style": "",
            "children": [
              "IPY_MODEL_089e28b3b4f446dcad2f9443c62d771d",
              "IPY_MODEL_ca1cf535e13e4630af6f87ca8ba895c2",
              "IPY_MODEL_72ae9449f79f44ce98b9434ed915b23b",
              "IPY_MODEL_ee99a8f579f447198b3baddf1e31f984"
            ],
            "layout": "IPY_MODEL_4e0b70aa427f44c58d7ebd351af4d15e"
          }
        },
        "089e28b3b4f446dcad2f9443c62d771d": {
          "model_module": "@jupyter-widgets/controls",
          "model_name": "FloatSliderModel",
          "model_module_version": "1.5.0",
          "state": {
            "_dom_classes": [],
            "_model_module": "@jupyter-widgets/controls",
            "_model_module_version": "1.5.0",
            "_model_name": "FloatSliderModel",
            "_view_count": null,
            "_view_module": "@jupyter-widgets/controls",
            "_view_module_version": "1.5.0",
            "_view_name": "FloatSliderView",
            "continuous_update": true,
            "description": "w1",
            "description_tooltip": null,
            "disabled": false,
            "layout": "IPY_MODEL_9daeadb4a04243e38ff3c39bbb9db22c",
            "max": 10,
            "min": -10,
            "orientation": "horizontal",
            "readout": true,
            "readout_format": ".2f",
            "step": 1,
            "style": "IPY_MODEL_409cb45f691348d4826ae9792a8945de",
            "value": 5
          }
        },
        "ca1cf535e13e4630af6f87ca8ba895c2": {
          "model_module": "@jupyter-widgets/controls",
          "model_name": "FloatSliderModel",
          "model_module_version": "1.5.0",
          "state": {
            "_dom_classes": [],
            "_model_module": "@jupyter-widgets/controls",
            "_model_module_version": "1.5.0",
            "_model_name": "FloatSliderModel",
            "_view_count": null,
            "_view_module": "@jupyter-widgets/controls",
            "_view_module_version": "1.5.0",
            "_view_name": "FloatSliderView",
            "continuous_update": true,
            "description": "w2",
            "description_tooltip": null,
            "disabled": false,
            "layout": "IPY_MODEL_094d252fae214e23b03851e256e57c8e",
            "max": 10,
            "min": -10,
            "orientation": "horizontal",
            "readout": true,
            "readout_format": ".2f",
            "step": 1,
            "style": "IPY_MODEL_d7c13929c5244829bcdf4e7784c061ba",
            "value": 0
          }
        },
        "72ae9449f79f44ce98b9434ed915b23b": {
          "model_module": "@jupyter-widgets/controls",
          "model_name": "FloatSliderModel",
          "model_module_version": "1.5.0",
          "state": {
            "_dom_classes": [],
            "_model_module": "@jupyter-widgets/controls",
            "_model_module_version": "1.5.0",
            "_model_name": "FloatSliderModel",
            "_view_count": null,
            "_view_module": "@jupyter-widgets/controls",
            "_view_module_version": "1.5.0",
            "_view_name": "FloatSliderView",
            "continuous_update": true,
            "description": "b",
            "description_tooltip": null,
            "disabled": false,
            "layout": "IPY_MODEL_66763bdefe874c20bcd89bf2146c3bb3",
            "max": 2,
            "min": -2,
            "orientation": "horizontal",
            "readout": true,
            "readout_format": ".2f",
            "step": 1,
            "style": "IPY_MODEL_79b0ff451a1c4946b016ba1d8a66ccf6",
            "value": 1
          }
        },
        "ee99a8f579f447198b3baddf1e31f984": {
          "model_module": "@jupyter-widgets/output",
          "model_name": "OutputModel",
          "model_module_version": "1.0.0",
          "state": {
            "_dom_classes": [],
            "_model_module": "@jupyter-widgets/output",
            "_model_module_version": "1.0.0",
            "_model_name": "OutputModel",
            "_view_count": null,
            "_view_module": "@jupyter-widgets/output",
            "_view_module_version": "1.0.0",
            "_view_name": "OutputView",
            "layout": "IPY_MODEL_1038702584f64e079f10c018d4166cc6",
            "msg_id": "",
            "outputs": [
              {
                "output_type": "display_data",
                "data": {
                  "text/plain": "<Figure size 640x480 with 1 Axes>",
                  "image/png": "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\n"
                },
                "metadata": {}
              }
            ]
          }
        },
        "4e0b70aa427f44c58d7ebd351af4d15e": {
          "model_module": "@jupyter-widgets/base",
          "model_name": "LayoutModel",
          "model_module_version": "1.2.0",
          "state": {
            "_model_module": "@jupyter-widgets/base",
            "_model_module_version": "1.2.0",
            "_model_name": "LayoutModel",
            "_view_count": null,
            "_view_module": "@jupyter-widgets/base",
            "_view_module_version": "1.2.0",
            "_view_name": "LayoutView",
            "align_content": null,
            "align_items": null,
            "align_self": null,
            "border": null,
            "bottom": null,
            "display": null,
            "flex": null,
            "flex_flow": null,
            "grid_area": null,
            "grid_auto_columns": null,
            "grid_auto_flow": null,
            "grid_auto_rows": null,
            "grid_column": null,
            "grid_gap": null,
            "grid_row": null,
            "grid_template_areas": null,
            "grid_template_columns": null,
            "grid_template_rows": null,
            "height": null,
            "justify_content": null,
            "justify_items": null,
            "left": null,
            "margin": null,
            "max_height": null,
            "max_width": null,
            "min_height": null,
            "min_width": null,
            "object_fit": null,
            "object_position": null,
            "order": null,
            "overflow": null,
            "overflow_x": null,
            "overflow_y": null,
            "padding": null,
            "right": null,
            "top": null,
            "visibility": null,
            "width": null
          }
        },
        "9daeadb4a04243e38ff3c39bbb9db22c": {
          "model_module": "@jupyter-widgets/base",
          "model_name": "LayoutModel",
          "model_module_version": "1.2.0",
          "state": {
            "_model_module": "@jupyter-widgets/base",
            "_model_module_version": "1.2.0",
            "_model_name": "LayoutModel",
            "_view_count": null,
            "_view_module": "@jupyter-widgets/base",
            "_view_module_version": "1.2.0",
            "_view_name": "LayoutView",
            "align_content": null,
            "align_items": null,
            "align_self": null,
            "border": null,
            "bottom": null,
            "display": null,
            "flex": null,
            "flex_flow": null,
            "grid_area": null,
            "grid_auto_columns": null,
            "grid_auto_flow": null,
            "grid_auto_rows": null,
            "grid_column": null,
            "grid_gap": null,
            "grid_row": null,
            "grid_template_areas": null,
            "grid_template_columns": null,
            "grid_template_rows": null,
            "height": null,
            "justify_content": null,
            "justify_items": null,
            "left": null,
            "margin": null,
            "max_height": null,
            "max_width": null,
            "min_height": null,
            "min_width": null,
            "object_fit": null,
            "object_position": null,
            "order": null,
            "overflow": null,
            "overflow_x": null,
            "overflow_y": null,
            "padding": null,
            "right": null,
            "top": null,
            "visibility": null,
            "width": null
          }
        },
        "409cb45f691348d4826ae9792a8945de": {
          "model_module": "@jupyter-widgets/controls",
          "model_name": "SliderStyleModel",
          "model_module_version": "1.5.0",
          "state": {
            "_model_module": "@jupyter-widgets/controls",
            "_model_module_version": "1.5.0",
            "_model_name": "SliderStyleModel",
            "_view_count": null,
            "_view_module": "@jupyter-widgets/base",
            "_view_module_version": "1.2.0",
            "_view_name": "StyleView",
            "description_width": "",
            "handle_color": null
          }
        },
        "094d252fae214e23b03851e256e57c8e": {
          "model_module": "@jupyter-widgets/base",
          "model_name": "LayoutModel",
          "model_module_version": "1.2.0",
          "state": {
            "_model_module": "@jupyter-widgets/base",
            "_model_module_version": "1.2.0",
            "_model_name": "LayoutModel",
            "_view_count": null,
            "_view_module": "@jupyter-widgets/base",
            "_view_module_version": "1.2.0",
            "_view_name": "LayoutView",
            "align_content": null,
            "align_items": null,
            "align_self": null,
            "border": null,
            "bottom": null,
            "display": null,
            "flex": null,
            "flex_flow": null,
            "grid_area": null,
            "grid_auto_columns": null,
            "grid_auto_flow": null,
            "grid_auto_rows": null,
            "grid_column": null,
            "grid_gap": null,
            "grid_row": null,
            "grid_template_areas": null,
            "grid_template_columns": null,
            "grid_template_rows": null,
            "height": null,
            "justify_content": null,
            "justify_items": null,
            "left": null,
            "margin": null,
            "max_height": null,
            "max_width": null,
            "min_height": null,
            "min_width": null,
            "object_fit": null,
            "object_position": null,
            "order": null,
            "overflow": null,
            "overflow_x": null,
            "overflow_y": null,
            "padding": null,
            "right": null,
            "top": null,
            "visibility": null,
            "width": null
          }
        },
        "d7c13929c5244829bcdf4e7784c061ba": {
          "model_module": "@jupyter-widgets/controls",
          "model_name": "SliderStyleModel",
          "model_module_version": "1.5.0",
          "state": {
            "_model_module": "@jupyter-widgets/controls",
            "_model_module_version": "1.5.0",
            "_model_name": "SliderStyleModel",
            "_view_count": null,
            "_view_module": "@jupyter-widgets/base",
            "_view_module_version": "1.2.0",
            "_view_name": "StyleView",
            "description_width": "",
            "handle_color": null
          }
        },
        "66763bdefe874c20bcd89bf2146c3bb3": {
          "model_module": "@jupyter-widgets/base",
          "model_name": "LayoutModel",
          "model_module_version": "1.2.0",
          "state": {
            "_model_module": "@jupyter-widgets/base",
            "_model_module_version": "1.2.0",
            "_model_name": "LayoutModel",
            "_view_count": null,
            "_view_module": "@jupyter-widgets/base",
            "_view_module_version": "1.2.0",
            "_view_name": "LayoutView",
            "align_content": null,
            "align_items": null,
            "align_self": null,
            "border": null,
            "bottom": null,
            "display": null,
            "flex": null,
            "flex_flow": null,
            "grid_area": null,
            "grid_auto_columns": null,
            "grid_auto_flow": null,
            "grid_auto_rows": null,
            "grid_column": null,
            "grid_gap": null,
            "grid_row": null,
            "grid_template_areas": null,
            "grid_template_columns": null,
            "grid_template_rows": null,
            "height": null,
            "justify_content": null,
            "justify_items": null,
            "left": null,
            "margin": null,
            "max_height": null,
            "max_width": null,
            "min_height": null,
            "min_width": null,
            "object_fit": null,
            "object_position": null,
            "order": null,
            "overflow": null,
            "overflow_x": null,
            "overflow_y": null,
            "padding": null,
            "right": null,
            "top": null,
            "visibility": null,
            "width": null
          }
        },
        "79b0ff451a1c4946b016ba1d8a66ccf6": {
          "model_module": "@jupyter-widgets/controls",
          "model_name": "SliderStyleModel",
          "model_module_version": "1.5.0",
          "state": {
            "_model_module": "@jupyter-widgets/controls",
            "_model_module_version": "1.5.0",
            "_model_name": "SliderStyleModel",
            "_view_count": null,
            "_view_module": "@jupyter-widgets/base",
            "_view_module_version": "1.2.0",
            "_view_name": "StyleView",
            "description_width": "",
            "handle_color": null
          }
        },
        "1038702584f64e079f10c018d4166cc6": {
          "model_module": "@jupyter-widgets/base",
          "model_name": "LayoutModel",
          "model_module_version": "1.2.0",
          "state": {
            "_model_module": "@jupyter-widgets/base",
            "_model_module_version": "1.2.0",
            "_model_name": "LayoutModel",
            "_view_count": null,
            "_view_module": "@jupyter-widgets/base",
            "_view_module_version": "1.2.0",
            "_view_name": "LayoutView",
            "align_content": null,
            "align_items": null,
            "align_self": null,
            "border": null,
            "bottom": null,
            "display": null,
            "flex": null,
            "flex_flow": null,
            "grid_area": null,
            "grid_auto_columns": null,
            "grid_auto_flow": null,
            "grid_auto_rows": null,
            "grid_column": null,
            "grid_gap": null,
            "grid_row": null,
            "grid_template_areas": null,
            "grid_template_columns": null,
            "grid_template_rows": null,
            "height": null,
            "justify_content": null,
            "justify_items": null,
            "left": null,
            "margin": null,
            "max_height": null,
            "max_width": null,
            "min_height": null,
            "min_width": null,
            "object_fit": null,
            "object_position": null,
            "order": null,
            "overflow": null,
            "overflow_x": null,
            "overflow_y": null,
            "padding": null,
            "right": null,
            "top": null,
            "visibility": null,
            "width": null
          }
        }
      }
    }
  },
  "cells": [
    {
      "cell_type": "markdown",
      "metadata": {
        "id": "view-in-github",
        "colab_type": "text"
      },
      "source": [
        "<a href=\"https://colab.research.google.com/github/dileepkoodalil/DeepLearning/blob/main/sigmoid_neuron.ipynb\" target=\"_parent\"><img src=\"https://colab.research.google.com/assets/colab-badge.svg\" alt=\"Open In Colab\"/></a>"
      ]
    },
    {
      "cell_type": "markdown",
      "source": [
        "# Exploring and understanding sigmoid neuron function"
      ],
      "metadata": {
        "id": "ogZrlabFG7hm"
      }
    },
    {
      "cell_type": "code",
      "source": [
        "import numpy as np\n",
        "import matplotlib.pyplot as plt\n",
        "import math\n",
        "from ipywidgets import interact, IntSlider, FloatSlider\n",
        "from mpl_toolkits.mplot3d import Axes3D"
      ],
      "metadata": {
        "id": "-rEdt0m5CboE"
      },
      "execution_count": 6,
      "outputs": []
    },
    {
      "cell_type": "markdown",
      "source": [
        "## Sigmoid function\n",
        "\n",
        "$ f(x)=1$ /$ 1$ +$ e^-(wx+b)$\n"
      ],
      "metadata": {
        "id": "E45AlwvBLllJ"
      }
    },
    {
      "cell_type": "code",
      "source": [
        "def sigmoid_1d(x,w,b):\n",
        "  y= 1/(1+np.exp(-w*x+b))\n",
        "  return y"
      ],
      "metadata": {
        "id": "FghLvHVUSvWj"
      },
      "execution_count": 13,
      "outputs": []
    },
    {
      "cell_type": "markdown",
      "source": [
        "## Plotting one-dimensional Sigmoid function\n",
        "\n",
        "\n"
      ],
      "metadata": {
        "id": "YMDGttY9HbQI"
      }
    },
    {
      "cell_type": "code",
      "source": [
        "def plot_sigmoid1d(w,b):\n",
        "  x=np.arange(-10,10,0.1)\n",
        "  y=sigmoid_1d(x,w,b)\n",
        "  plt.plot(x,y,label='w='+str(w)+',b='+str(b))\n",
        "  plt.grid(True)\n",
        "  plt.legend()\n",
        "  plt.xlabel('x')\n",
        "  plt.ylabel('y')\n",
        "  plt.title('Sigmoid Function')\n",
        "  plt.show()\n",
        "\n",
        "def plot_sigmoid_oneD():\n",
        "  interact(plot_sigmoid1d,w=FloatSlider(min=-20,max=20,step=0.5,value=1),b=FloatSlider(min=-10,max=10,step=2,value=0))"
      ],
      "metadata": {
        "id": "igIarZEMGCSD"
      },
      "execution_count": 19,
      "outputs": []
    },
    {
      "cell_type": "code",
      "source": [
        "#x=np.arange(-1,1,0.1)\n",
        "plot_sigmoid_oneD()\n"
      ],
      "metadata": {
        "colab": {
          "base_uri": "https://localhost:8080/",
          "height": 536,
          "referenced_widgets": [
            "a2aba3cf34bd4ad6aff23265d85ee9ea",
            "e0ee9dcc2f1f45bda3ac8248a16d1ee2",
            "904f2a411c0a4c88a85b899eafe812f2",
            "478f4cd0548e40d7802d54f312618733",
            "e83c1c56f7fa45d187ad789c0baf85ba",
            "8b5057c4407f415da5db43ecabfea135",
            "bc9f93806a764e7ca9bedb6cc34694a1",
            "8c3527c401c244e196500360fce96d89",
            "65cdd3eb91a1419193bf3c6e85d4a523",
            "0945218bc471451f8c673d94b7a65a77"
          ]
        },
        "id": "OzFtMhBAD_6y",
        "outputId": "50d7f8bc-c591-4199-a656-b062f96bdf2e"
      },
      "execution_count": 20,
      "outputs": [
        {
          "output_type": "display_data",
          "data": {
            "text/plain": [
              "interactive(children=(FloatSlider(value=1.0, description='w', max=20.0, min=-20.0, step=0.5), FloatSlider(valu…"
            ],
            "application/vnd.jupyter.widget-view+json": {
              "version_major": 2,
              "version_minor": 0,
              "model_id": "a2aba3cf34bd4ad6aff23265d85ee9ea"
            }
          },
          "metadata": {}
        }
      ]
    },
    {
      "cell_type": "markdown",
      "source": [
        "# Plotting 2D Sigmoid function"
      ],
      "metadata": {
        "id": "zLha4-jDRtMy"
      }
    },
    {
      "cell_type": "code",
      "source": [
        "# Define the sigmoid function\n",
        "def sigmoid_2d(x1, x2, w1, w2, b):\n",
        "    return 1 / (1 + np.exp(-(w1 * x1 + w2 * x2 + b)))\n",
        "\n",
        "# Define the plotting function\n",
        "def plot_sigmoid_2d(w1, w2, b):\n",
        "    x1 = np.arange(-10, 10, 0.1)\n",
        "    x2 = np.arange(-20, 20, 0.1)\n",
        "    X1, X2 = np.meshgrid(x1, x2)\n",
        "    y = sigmoid_2d(X1, X2, w1, w2, b)\n",
        "\n",
        "    fig = plt.figure()\n",
        "    ax = fig.add_subplot(111, projection='3d')\n",
        "    ax.plot_wireframe(X1, X2, y)\n",
        "\n",
        "    plt.grid(True)\n",
        "     # Labels\n",
        "    ax.set_xlabel('x1')\n",
        "    ax.set_ylabel('x2')\n",
        "    ax.set_zlabel('y')\n",
        "    plt.title('Sigmoid Function-2D')\n",
        "    ax.view_init(elev=30, azim =270)\n",
        "    plt.show()\n",
        "\n",
        "# Use interact to create sliders and link them to the plotting function\n",
        "def plot2dsigmoid2d():\n",
        "  interact(plot_sigmoid_2d, w1= FloatSlider(min=-10,max=10,step=1,value=5), w2=FloatSlider(min=-10, max=10,step=1,vqlue=5), b=FloatSlider(min=-2, max=2,step=1,value=1))"
      ],
      "metadata": {
        "id": "T9-PAAzyWxCF"
      },
      "execution_count": 10,
      "outputs": []
    },
    {
      "cell_type": "code",
      "source": [
        "plot2dsigmoid2d()"
      ],
      "metadata": {
        "id": "e1-pwEOJGqKi",
        "colab": {
          "base_uri": "https://localhost:8080/",
          "height": 524,
          "referenced_widgets": [
            "23d515ff5ae9492a82a0d5d7345a84b5",
            "089e28b3b4f446dcad2f9443c62d771d",
            "ca1cf535e13e4630af6f87ca8ba895c2",
            "72ae9449f79f44ce98b9434ed915b23b",
            "ee99a8f579f447198b3baddf1e31f984",
            "4e0b70aa427f44c58d7ebd351af4d15e",
            "9daeadb4a04243e38ff3c39bbb9db22c",
            "409cb45f691348d4826ae9792a8945de",
            "094d252fae214e23b03851e256e57c8e",
            "d7c13929c5244829bcdf4e7784c061ba",
            "66763bdefe874c20bcd89bf2146c3bb3",
            "79b0ff451a1c4946b016ba1d8a66ccf6",
            "1038702584f64e079f10c018d4166cc6"
          ]
        },
        "outputId": "5e73d3df-b39c-4d3c-fb43-ac07fdb2b942"
      },
      "execution_count": 11,
      "outputs": [
        {
          "output_type": "display_data",
          "data": {
            "text/plain": [
              "interactive(children=(FloatSlider(value=5.0, description='w1', max=10.0, min=-10.0, step=1.0), FloatSlider(val…"
            ],
            "application/vnd.jupyter.widget-view+json": {
              "version_major": 2,
              "version_minor": 0,
              "model_id": "23d515ff5ae9492a82a0d5d7345a84b5"
            }
          },
          "metadata": {}
        }
      ]
    },
    {
      "cell_type": "markdown",
      "source": [
        "## class for sigmoid neuron"
      ],
      "metadata": {
        "id": "kUhxcHVGqroy"
      }
    },
    {
      "cell_type": "code",
      "source": [
        "class sigmoid_neuron:\n",
        "  ## w is weight and b is the bias\n",
        "  def __init__(self):\n",
        "    self.w=None\n",
        "    self.b=None\n",
        "   ## sigmoid function takes the argument x and the the value\n",
        "  def sigmoid(self,x):\n",
        "    percep=np.dot(self.w,x)+self.b\n",
        "    return 1/(1+np.exp(-percep))\n",
        "\n",
        "  def grad_w(self,x,y):\n",
        "    y_pred=self.sigmoid(x)\n",
        "    return (y_pred-y)*y_pred*(1-y_pred)*x\n",
        "  def grad_b(self,x,y):\n",
        "    y_pred=self.sigmoid(x)\n",
        "    return (y_pred-y)*y_pred*(1-y_pred)\n",
        "\n",
        "\n",
        "  def fit(self,X,Y,epochs=1,learning_rate=1,initialise=True):\n",
        "    if initialise:\n",
        "      self.w=np.random.randn(1,X.shape[1])\n",
        "      self.b=0\n",
        "\n",
        "    for i in range(epochs):\n",
        "      dw=0\n",
        "      db=0\n",
        "      for x,y in zip(X,Y):\n",
        "        dw+=self.grad_w(x,y)\n",
        "        db+=self.grad_b(x,y)\n",
        "      self.w-=learning_rate*dw\n",
        "      self.b-=learning_rate*db\n",
        "\n"
      ],
      "metadata": {
        "id": "FgSVdYhfq5YF"
      },
      "execution_count": 21,
      "outputs": []
    }
  ]
}